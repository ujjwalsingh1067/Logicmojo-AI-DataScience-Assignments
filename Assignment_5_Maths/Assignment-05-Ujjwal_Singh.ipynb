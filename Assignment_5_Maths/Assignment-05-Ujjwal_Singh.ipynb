{
 "cells": [
  {
   "cell_type": "markdown",
   "id": "39e18a5e",
   "metadata": {},
   "source": [
    "# Assignment-5\n",
    "\n",
    "This notebook contains the questions to test the proficiency in `Mathematics for machine learning`.\n",
    "\n",
    "### Date: 16th June, 2025\n",
    "\n",
    "### Steps to solve and upload the assignment \n",
    "\n",
    "- Download the notebook in your local machine.\n",
    "- Solve the coding questions in the notebook and save it.\n",
    "- Rename the file as `\n",
    "`. For example if your name is Dipika Chopra then name the file as `Assignment-05-Dipika_Chopra.ipynb`.\n",
    "- For numerical problems you can either solve the same using `LaTeX` in markdown cell of your soluton notebook or you can solve it on paper and upload the scan pdf copy of the solution.\n",
    "- If you are solving it on paper then name the pdf file of the scan copy of the solution as `Assignment-05-<your_name>_<your_surname>.pdf`. For example if your name is Akash Kumar then name the file as `Assignment-05-Akash_Kumar.pdf`.\n",
    "- Upload the solved notebook and the scanned pdf copy of the solutions in the google drive location: https://drive.google.com/drive/folders/1rlxuCIMhIk3qIM4BIWGjTwe7o6pojKKS?usp=drive_link\n",
    "<h3><span style=\"color:red\"> Deadline: 4th July, 2025 </span></h3>"
   ]
  },
  {
   "cell_type": "markdown",
   "id": "3060d16c",
   "metadata": {},
   "source": [
    "<h5><span style=\"color:blue\"> <b>Instructions:</b> Please answer all the questions. For problems requiring numerical solutions, you are encouraged to write code in Python to compute the results. Show your steps and explain your reasoning. </span></h5>"
   ]
  },
  {
   "cell_type": "markdown",
   "id": "2b5b5a63",
   "metadata": {},
   "source": [
    "### Problem-1\n",
    "\n",
    "In a network, data packets are sent through a shared channel. Suppose there are 10 devices attempting to send data. In any given time slot, each device has a 20% chance of attempting to send a packet, independently of other devices. A collision occurs if two or more devices attempt to send a packet in the same time slot. What is the probability that in a given time slot, there will be no collisions?"
   ]
  },
  {
   "cell_type": "markdown",
   "id": "2503b5bd",
   "metadata": {},
   "source": [
    "no collision = 0 devices send, or exactly 1 device sends\n",
    "\n",
    "P(X=0) + P(X=1)\n",
    "\n",
    "P(X=k) = nCk ⋅p^k⋅(1−p)^n−k\n",
    "\n",
    "P(X=0) = 10c0 * 0.2^0 + 0.8^10 = 0.8^10\n",
    "\n",
    "P(X=1) = 10c1 * 0.2^1 + 0.8^9 = 10 * 0.2 * 0.8^9\n",
    "\n",
    "P(no collisions)=0.8^10 +10 * 0.2 * 0.8^9 = 0.376"
   ]
  },
  {
   "cell_type": "markdown",
   "id": "7a96749a",
   "metadata": {},
   "source": [
    "### Problem-2\n",
    "\n",
    "A system uses 8-character passwords. Each character can be any lowercase letter (a-z), uppercase letter (A-Z), or digit (0-9).\n",
    "What is the probability that a randomly generated 8-character password contains at least one digit, given that character repetition is allowed?"
   ]
  },
  {
   "cell_type": "markdown",
   "id": "891b2851",
   "metadata": {},
   "source": [
    "8 char password using [a-z] or [A-Z] or [0-9]\n",
    "\n",
    "no of char = 26 (small) + 26 (caps)\n",
    "\n",
    "no of digits = 10\n",
    "\n",
    "p(password contain atleast 1 digit) = 1 - p(all char) \n",
    "\n",
    "p(all char) = all char/all possible combinations = 52 * 52 * 52 ..upto 8 times / 62 * 62 * 62 ..upto 8 times\n",
    "\n",
    "P(at least one digit)= 1 - 52^8 / 62 ^ 8 = 1−0.2347 = 0.7653\n",
    "\n",
    "\n",
    "\n",
    "\n"
   ]
  },
  {
   "cell_type": "markdown",
   "id": "b8f8f841",
   "metadata": {},
   "source": [
    "### Problem-3\n",
    "\n",
    "A software project has two modules, A and B. The probability that module A has a bug is 0.15, and the probability that module B has a bug is 0.10. The probability that both modules have bugs is 0.03.\n",
    "\n",
    "(a) What is the probability that module A has a bug, given that module B has a bug?\n",
    "\n",
    "(b) What is the probability that module B has a bug, given that module A does not have a bug?"
   ]
  },
  {
   "cell_type": "markdown",
   "id": "0c571a50",
   "metadata": {},
   "source": [
    "A = module A has a bug\n",
    "\n",
    "B = module B has a bug\n",
    "\n",
    "p(A) = 0.15; p(A') = 0.85\n",
    "\n",
    "p(B) = 0.10\n",
    "\n",
    "p(AnB) = 0.03\n",
    "\n",
    "1. p(A/B) = p(AnB)/p(B) = 0.03/0.10 = 3/10 = 0.3\n",
    "\n",
    "2. p(B/A) = p(A/B).p(B)/p(A) = 0.3*0.10/0.15 = 3/15\n",
    "\n",
    "using total law of probability, \n",
    "p(B) = p(A).p(B/A) + p(A').p(B/A');\n",
    "\n",
    "0.10 = 0.15 * 3/15 + 0.85 * p(B/A'); \n",
    "\n",
    "p(B/A') = 0.07/0.85 = 0.0824\n"
   ]
  },
  {
   "cell_type": "markdown",
   "id": "05e5fb69",
   "metadata": {},
   "source": [
    "### Problem-4\n",
    "\n",
    "A robot uses a sensor to detect an obstacle. The sensor has a 95% chance of correctly detecting an obstacle when one is present (true positive rate). However, it also has a 2% chance of indicating an obstacle when there isn't one (false positive rate).\n",
    "In the robot's environment, obstacles are present 10% of the time.\n",
    "\n",
    "What is the probability that an obstacle is truly present, given that the sensor indicates an obstacle?"
   ]
  },
  {
   "cell_type": "markdown",
   "id": "72990b73",
   "metadata": {},
   "source": [
    "A = obstacle present, B = sensor detects an obstacle\n",
    "\n",
    "p(B/A) = 0.95, \n",
    "p(B/A') = 0.02, \n",
    "p(A) = 0.10, \n",
    "p(A') = 0.90, \n",
    "p(A/B) = ?\n",
    "\n",
    "using law of total prob:\n",
    "\n",
    "p(B) = p(A).p(B/A) + p(A').p(B/A') \n",
    "\n",
    "0.10⋅0.95+0.90⋅0.02=0.095+0.018=0.113\n",
    "\n",
    "using Baye's theorm:\n",
    "\n",
    "p(A/B) = p(B/A) * p(A)/p(B)\n",
    "\n",
    "0.95*0.10/0.113 = 0.840\n",
    "\n",
    "so, probability that an obstacle is truly present, given that the sensor indicates an obstacle is 84%"
   ]
  },
  {
   "cell_type": "markdown",
   "id": "d1540bbd",
   "metadata": {},
   "source": [
    "### Problem-5\n",
    "\n",
    "A spam filter uses a keyword \"money\" to identify spam emails.\n",
    "- 10% of all emails are spam.\n",
    "- If an email is spam, the word \"money\" appears in it 80% of the time.\n",
    "- If an email is not spam, the word \"money\" appears in it 5% of the time.\n",
    "\n",
    "If an email contains the word \"money\", what is the probability that it is spam?"
   ]
  },
  {
   "cell_type": "markdown",
   "id": "28ade35d",
   "metadata": {},
   "source": [
    "A: Email is spam  \n",
    "B: Email contains the word \"money\"\n",
    "\n",
    "- P(A) = 0.10\n",
    "- P(A') = 1 - P(A) = 0.90\n",
    "- P(B/A) = 0.80\n",
    "- P(B/A') = 0.05\n",
    "\n",
    "\n",
    "We want to find:\n",
    "- P(A/B) : Probability that an email is spam given that it contains the word \"money\"\n",
    "\n",
    "Use Law of Total Probability\n",
    "\n",
    "p(B) = p(A).p(B/A) + p(A').p(B/A') \n",
    "\n",
    "P(B) = (0.80 * 0.10) + (0.05 * 0.90) = 0.08 + 0.045 = 0.125\n",
    "\n",
    "Plug values into Bayes' Theorem\n",
    "\n",
    "p(A/B) = p(B/A) * p(A)/p(B)\n",
    "\n",
    "= 0.80 * 0.10 / 0.125 =  0.64"
   ]
  },
  {
   "cell_type": "markdown",
   "id": "cfbf13b7",
   "metadata": {},
   "source": [
    "### Problem-6\n",
    "\n",
    "A rare disease affects 1 in 10,000 people. A diagnostic test for this disease has a 99% true positive rate (correctly identifies the disease when present) and a 0.5% false positive rate (incorrectly indicates the disease when not present).\n",
    "\n",
    "If a randomly selected person tests positive for the disease, what is the probability that they actually have the disease?"
   ]
  },
  {
   "cell_type": "markdown",
   "id": "fcc90c7c",
   "metadata": {},
   "source": [
    "A = disease present\n",
    "B = disease detected by the test\n",
    "\n",
    "p(A) = prob of disease presence = 1/1000 = 0.001\n",
    "p(B/A) = 0.99\n",
    "p(B/A') = 0.005\n",
    "\n",
    "we need to find p(A/B) = prob of having the disease if detected positive by the test\n",
    "\n",
    "using Law of Total Probability:\n",
    "p(B) = p(A).p(B/A) + p(A').p(B/A') = 0.99 * 0.0001 + 0.005 * 0.9999 \n",
    "= 0.000099+0.0049995 = 0.0050985\n",
    "\n",
    "p(A/B) = p(B/A) * p(A)/p(B)\n",
    "\n",
    "0.99 * 0.0001/0.0050985 = 0.0194\n",
    "\n",
    "If a person tests positive, the probability they actually have the disease is approximately 1.94%, surprisingly low, due to how rare the disease is."
   ]
  },
  {
   "cell_type": "markdown",
   "id": "c8efd95f",
   "metadata": {},
   "source": [
    "### Problem-7\n",
    "\n",
    "A batch of 500 microchips is produced. The probability that a single microchip is defective is 0.02.\n",
    "Let X be the number of defective microchips in a random sample of 20 microchips from this batch. Assume the sample is taken with replacement, or the batch is large enough that we can model this as independent trials.\n",
    "\n",
    "(a) What is the probability that exactly 3 microchips in the sample are defective?\n",
    "(b) What is the probability that at least 2 microchips in the sample are defective?"
   ]
  },
  {
   "cell_type": "markdown",
   "id": "5c255567",
   "metadata": {},
   "source": [
    "Binomial distribution problem:\n",
    "\n",
    "P(X=k) = nCk ⋅p^k⋅(1−p)^n−k\n",
    "\n",
    "n = 20 (sample size)\n",
    "\n",
    "a. P(k=3) = 20c3 * 0.02^3 * 0.98^17 = 0.00648\n",
    "\n",
    "~ 0.648% is the prob of exactly 3 microchips are defective in the sample of 20\n",
    "\n",
    "\n",
    "b. P(atleast 2) can be written as P(k>=2) = 1 - P(k<2)\n",
    "\n",
    "P(k<2) can be broken down as P(k=0) + P(k=1)\n",
    "\n",
    "P(k=0) = 20c0 * 0.02^0 * 0.98^20 = 0.6676\n",
    "P(k=1) = 20c1 * 0.02^1 * 0.98^19 = 0.2724\n",
    "\n",
    "P(k>=2) = 1 - (0.6676+0.2724) = 0.06\n",
    "\n",
    "~ 6% is the prob of atleast 2 microchips are defective from sample of 20\n",
    "\n",
    "**Note:** The “500 microchips” detail is there to justify using the binomial model, it tells us the sample is small enough compared to the population to treat draws as independent."
   ]
  },
  {
   "cell_type": "markdown",
   "id": "d881d902",
   "metadata": {},
   "source": [
    "### Problem-8\n",
    "\n",
    "The time (in hours) until a critical server component fails follows an exponential distribution with a mean of 500 hours.\n",
    "\n",
    "(a) What is the probability that the component will last between 400 and 600 hours?\n",
    "\n",
    "(b) The component has already been running for 300 hours without failure. What is the probability that it will last for at least another 250 hours?"
   ]
  },
  {
   "cell_type": "markdown",
   "id": "32c0a682",
   "metadata": {},
   "source": [
    "```python\n",
    "# Problem 8 – Exponential Distribution with mean = 500 hours\n",
    "# PDF: f(t) = λ * e^(-λt), where λ = 1 / mean\n",
    "\n",
    "# (a) Probability that the component lasts between 400 and 600 hours:\n",
    "# Mean = 500 ⇒ λ = 1 / 500\n",
    "\n",
    "lambda_param = 1 / 500  # rate parameter\n",
    "\n",
    "# Use the cumulative distribution function (CDF):\n",
    "# F(t) = 1 - e^(-λt)\n",
    "# So, P(400 ≤ T ≤ 600) = F(600) - F(400)\n",
    "# = (1 - e^(-λ * 600)) - (1 - e^(-λ * 400))\n",
    "# = e^(-λ * 400) - e^(-λ * 600)\n",
    "\n",
    "import numpy as np\n",
    "\n",
    "p_400 = np.exp(-lambda_param * 400)\n",
    "p_600 = np.exp(-lambda_param * 600)\n",
    "\n",
    "# Probability of failure between 400 and 600 hours:\n",
    "prob_between_400_600 = p_400 - p_600\n",
    "print(\"P(400 ≤ T ≤ 600):\", prob_between_400_600)  # ≈ 0.148 or 14.8%\n",
    "\n",
    "# --------------------------------------------------------\n",
    "\n",
    "# (b) Given the component has already survived 300 hours,\n",
    "# what is the probability it lasts at least another 250 hours?\n",
    "\n",
    "# Exponential distribution is memoryless:\n",
    "# P(T > 250 | T > 300) = P(T > 250)\n",
    "\n",
    "# Use the survival function: P(T > t) = e^(-λt)\n",
    "\n",
    "prob_survive_250 = np.exp(-lambda_param * 250)\n",
    "print(\"P(T > 250):\", prob_survive_250)  # ≈ 0.607 or 60.7%\n"
   ]
  },
  {
   "cell_type": "markdown",
   "id": "94a87f03",
   "metadata": {},
   "source": [
    "### Problem-9\n",
    "\n",
    "The noise in a sensor's reading can be modeled by a Gaussian (Normal) distribution with a mean of 0 (bias) and a standard deviation of 0.5 units.\n",
    "\n",
    "(a) What is the probability that a sensor reading's noise is between -0.2 and 0.3 units?\n",
    "\n",
    "(b) If a reading is considered an \"outlier\" if its noise is more than 1.5 standard deviations away from the mean, what is the probability that a random reading is an outlier?"
   ]
  },
  {
   "cell_type": "markdown",
   "id": "ca52c7f3",
   "metadata": {},
   "source": [
    "```python\n",
    "# Let’s use the Z-table, which gives cumulative probabilities for the standard normal distribution.\n",
    "\n",
    "# (a) Probability that noise is between -0.2 and 0.3:\n",
    "# Mean (mu) = 0, Std Dev (sigma) = 0.5\n",
    "\n",
    "# Convert to Z-scores:\n",
    "# z1 = (-0.2 - 0) / 0.5 = -0.4\n",
    "# z2 = (0.3 - 0) / 0.5 = 0.6\n",
    "\n",
    "# From Z-table:\n",
    "# P(Z < 0.6) ≈ 0.725\n",
    "# P(Z < -0.4) ≈ 0.344\n",
    "\n",
    "# So, P(-0.2 < X < 0.3) = 0.725 - 0.344 = 0.381\n",
    "\n",
    "# Final Answer (a): 0.381\n",
    "\n",
    "\n",
    "# (b) Probability that noise is more than 1.5 standard deviations away from mean:\n",
    "# We want P(|Z| > 1.5) = P(Z < -1.5) + P(Z > 1.5)\n",
    "\n",
    "# From Z-table:\n",
    "# P(Z > 1.5) = 1 - P(Z < 1.5) = 1 - 0.933 = 0.066\n",
    "# P(Z < -1.5) ≈ 0.066  # by symmetry\n",
    "\n",
    "# So, total probability = 2 * 0.066 = 0.133\n",
    "\n",
    "# Final Answer (b): 0.133\n",
    "```\n"
   ]
  },
  {
   "cell_type": "markdown",
   "id": "78f10b6f",
   "metadata": {},
   "source": [
    "### Problem-10\n",
    "\n",
    "The latency (delay) in a specific network segment is observed to be normally distributed with a mean of 150 ms and a standard deviation of 20 ms.\n",
    "\n",
    "(a) What is the probability that a data packet experiences a latency greater than 180 ms?\n",
    "\n",
    "(b) Due to new QoS (Quality of Service) requirements, 90% of packets must arrive within a certain latency threshold. What is this threshold (in ms)?\n",
    "\n",
    "(c) If a network engineer defines \"critical latency\" as any latency exceeding 2.5 standard deviations above the mean, what is the probability that a packet experiences critical latency?"
   ]
  },
  {
   "cell_type": "markdown",
   "id": "14f28f88",
   "metadata": {},
   "source": [
    "```python\n",
    "# Given:\n",
    "# Mean (mu) = 150 ms\n",
    "# Standard deviation (sigma) = 20 ms\n",
    "\n",
    "# (a) Probability that latency > 180 ms:\n",
    "# z = (180 - 150) / 20 = 1.5\n",
    "# From z-table: P(Z < 1.5) ≈ 0.933\n",
    "# So, P(Z > 1.5) = 1 - 0.933 = 0.067 or 6.7%\n",
    "\n",
    "# (b) Latency threshold for 90% of packets:\n",
    "# We want P(Z <= z) = 0.90\n",
    "# From z-table: z ≈ 1.28\n",
    "# Convert to latency: x = mu + z * sigma = 150 + 1.28 * 20 = 175.6 ms\n",
    "# So, 90% of packets arrive within ~175.6 ms\n",
    "\n",
    "# (c) Probability of critical latency (> 2.5 standard deviations above mean):\n",
    "# z = 2.5\n",
    "# From z-table: P(Z < 2.5) ≈ 0.993\n",
    "# So, P(Z > 2.5) = 1 - 0.993 = 0.007 or 0.7%\n",
    "```\n"
   ]
  },
  {
   "cell_type": "markdown",
   "id": "130b34aa",
   "metadata": {},
   "source": [
    "### Problem-11\n",
    "\n",
    "The lifespan of a certain electronic component, due to manufacturing variations, is normally distributed with a mean of 2500 hours and a standard deviation of 300 hours.\n",
    "\n",
    "(a) A customer requires components that last at least 2000 hours. What percentage of manufactured components meet this requirement?\n",
    "\n",
    "(b) The manufacturer wants to provide a warranty such that only 1% of components fail before the warranty period ends. What should be the warranty period (in hours)?\n",
    "\n",
    "(c) If a batch of 10,000 components is produced, how many components are expected to have a lifespan between 2200 and 2800 hours?"
   ]
  },
  {
   "cell_type": "markdown",
   "id": "2fbbf000",
   "metadata": {},
   "source": [
    "### Problem 11 – Lifespan of Electronic Components (Normal Distribution)\n",
    "\n",
    "```python\n",
    "# Given:\n",
    "# Mean (mu) = 2500 hours\n",
    "# Standard deviation (sigma) = 300 hours\n",
    "\n",
    "# ----------------------------------------------------\n",
    "# (a) What % of components last at least 2000 hours?\n",
    "\n",
    "# Step 1: Convert 2000 to a z-score\n",
    "# z = (2000 - 2500) / 300 = -1.66\n",
    "\n",
    "# Step 2: Use Z-table\n",
    "# P(Z < -1.66) ≈ 0.048\n",
    "# So, P(Z > -1.66) = 1 - 0.048 = 0.952\n",
    "\n",
    "# Final Answer (a): 95.2% of components meet the requirement\n",
    "\n",
    "# ----------------------------------------------------\n",
    "# (b) What warranty period ensures only 1% fail early?\n",
    "\n",
    "# We want P(X < x) = 0.01 → bottom 1% of distribution\n",
    "# From Z-table, z ≈ -2.33 (note: 1% in lower tail, so negative z)\n",
    "\n",
    "# Step 1: Solve for x\n",
    "# x = mu + z * sigma = 2500 + (-2.33 * 300) = 2500 - 699 = 1801\n",
    "\n",
    "# Final Answer (b): Warranty period should be ~1801 hours\n",
    "\n",
    "# ----------------------------------------------------\n",
    "# (c) How many components (out of 10,000) last between 2200 and 2800 hours?\n",
    "\n",
    "# Step 1: Convert both values to z-scores\n",
    "# z1 = (2200 - 2500) / 300 = -1\n",
    "# z2 = (2800 - 2500) / 300 = +1\n",
    "\n",
    "# Step 2: Use Z-table\n",
    "# P(Z < 1) ≈ 0.8413\n",
    "# P(Z < -1) ≈ 0.1587\n",
    "\n",
    "# So, P(-1 < Z < 1) = 0.8413 - 0.1587 = 0.6826\n",
    "\n",
    "# Step 3: Multiply by total components\n",
    "# 0.6826 * 10,000 = 6826 components\n",
    "\n",
    "# Final Answer (c): About 6826 components are expected to fall within that range\n",
    "```\n"
   ]
  },
  {
   "cell_type": "markdown",
   "id": "b3760971",
   "metadata": {},
   "source": [
    "### Problem-12\n",
    "The probability density function (pdf) of the triangular distribution is characterized by three points as shown in the figure below.\n",
    "\n",
    "<img src=\"https://upload.wikimedia.org/wikipedia/commons/4/45/Triangular_distribution_PMF.png\" alt=\"triangular distribution\" width=\"500\"/>\n",
    "\n",
    "(a) min value of the distribution,\n",
    "(b) max value of the distribution, and\n",
    "(c) mode of the distribution\n",
    "\n",
    "Note: $a \\leq c \\leq b$\n",
    "\n",
    "Create a class `TriangularDistribution` with attributes `min`, `max` and `mode`. You need to implement the following methods:\n",
    "\n",
    "- `pdf(x)`: returns the value of the pdf at point $x$.\n",
    "- `plot_pdf()`: plots the pdf in the range $[min , max]$\n",
    "- `cdf(x)`: returns the value of the cdf at point $x$ ; which denotes $P(X \\leq x)$\n",
    "- `plot_cdf()`: plots the cdf in the range $[min , max]$\n",
    "- `get_probability(x1, x2)`: returns the probability $P(x_1 \\leq X \\leq x_2)$, where $x_1 \\lt x_2$.\n",
    "\n",
    "Gracefully handle the possible errors and also the edge conditions when either $ a = c $ or $b = c$ in the distribution.\n",
    "\n",
    "Test your implementation."
   ]
  },
  {
   "cell_type": "code",
   "execution_count": 260,
   "id": "8f4ea890",
   "metadata": {},
   "outputs": [],
   "source": [
    "### Write your code here\n",
    "\n",
    "# create the function of the PDF\n",
    "# pass x in pdf(x) and calculate the value\n",
    "# pass min, max and plot the pdf in the graph\n",
    "# to convert pdf to cdf we need to integrate the pdf, pass x in cdf(x) and calculate the values\n",
    "# get AUC using pdf with limits x1 and x2, or calculate Cdf(x2) - Cdf(x1)\n",
    "\n",
    "\n",
    "# class TriangularDistribution:\n",
    "#     def __init__(self):\n",
    "#         pass\n",
    "\n",
    "#     def pdf(self,x,a,b,c):\n",
    "#         if x<a:\n",
    "#             return 0\n",
    "#         elif a<x<c:\n",
    "#             return 2(x-a)/(b-a)(c-a)\n",
    "#         elif c<x<b:\n",
    "#             return 2(b-x)/(b-a)(b-c)\n",
    "#         elif x>b:\n",
    "#             return 0\n"
   ]
  },
  {
   "cell_type": "markdown",
   "id": "7f1d0597",
   "metadata": {},
   "source": [
    "### Problem-13\n",
    "\n",
    "The `rand5()` function which returns a uniform random integer within the range [1, 5], is defined as following:\n",
    "\n",
    "```python\n",
    "def rand5():\n",
    "    import numpy as np\n",
    "    return np.random.randint(1,6)\n",
    "```\n",
    "\n",
    "Write a function `rand7()` that will generate a uniform random integer within the range [1, 7] by only using `rand5()`. \n",
    "\n",
    "Note: You can call `rand5()` as many time as you want inside the function `rand7()`, but you can not use `np.random.randint(1, 8)` or any other built-in methods in python. "
   ]
  },
  {
   "cell_type": "code",
   "execution_count": 163,
   "id": "3ba82442",
   "metadata": {},
   "outputs": [
    {
     "name": "stdout",
     "output_type": "stream",
     "text": [
      "{np.int64(1): np.float64(0.1426), np.int64(2): np.float64(0.14346), np.int64(3): np.float64(0.1405), np.int64(4): np.float64(0.14436), np.int64(5): np.float64(0.14173), np.int64(6): np.float64(0.14425), np.int64(7): np.float64(0.1431)}\n"
     ]
    },
    {
     "data": {
      "image/png": "[encoded data removed]",
      "text/plain": [
       "<Figure size 640x480 with 1 Axes>"
      ]
     },
     "metadata": {},
     "output_type": "display_data"
    }
   ],
   "source": [
    "import numpy as np\n",
    "from collections import Counter\n",
    "import matplotlib.pyplot as plt\n",
    "\n",
    "def rand5():\n",
    "    return np.random.randint(1, 6)\n",
    "\n",
    "def rand7():\n",
    "    while True:\n",
    "        num = (rand5() - 1) * 5 + rand5()  # generates 1–25\n",
    "        if num <= 21:\n",
    "            return (num - 1) % 7 + 1       # maps to 1–7\n",
    "\n",
    "# Generate samples\n",
    "data = [rand7() for _ in range(100000)]\n",
    "\n",
    "# PMF calculation\n",
    "values, counts = np.unique(data, return_counts=True)\n",
    "pmf = counts / counts.sum()\n",
    "pmf_dict = dict(zip(values, pmf))\n",
    "\n",
    "# Print PMF\n",
    "print(pmf_dict)\n",
    "\n",
    "# Plot\n",
    "plt.bar(pmf_dict.keys(), pmf_dict.values())\n",
    "plt.xlabel('Value')\n",
    "plt.ylabel('Probability')\n",
    "plt.title('PMF of rand7() using rand5()')\n",
    "plt.show()\n"
   ]
  },
  {
   "cell_type": "markdown",
   "id": "e6b19c2f",
   "metadata": {},
   "source": [
    "### Problem-14\n",
    "\n",
    "A grayscale image can be represented as a matrix where the dimensions are (height, width). \n",
    "Let's consider a simplified scenario with two grayscale images, $A$ and $B$, both represented as 10×10 matrices where each element represents pixel intensity. Pixel intensity is an integer in the range [0-255].\n",
    "\n",
    "You want to create a blended image $C$ by combining $A$ and $B$ such that $C=w_1 A+w_2 B$. This represents a weighted average blend.\n",
    "Note that each element in the resultant matrix $C$ should also fall within the range [0, 255]. \n",
    "\n",
    "write the code of the function `blend_images(image_A, image_B, weight_A, weight_B)` that takes two matrices and two scalar weights and produces another matrix as an output by performing the above operation."
   ]
  },
  {
   "cell_type": "code",
   "execution_count": 256,
   "id": "14aa7c52",
   "metadata": {},
   "outputs": [
    {
     "name": "stdout",
     "output_type": "stream",
     "text": [
      "[[123  95 112 170 147 102  80  90 162  97]\n",
      " [230  42 160 233  57 210 209 212  55  94]\n",
      " [ 17 120 201  85 105 187 162  46  94  68]\n",
      " [194 151 192 173 186  96 164  41  39 218]\n",
      " [205  41 212 227 240 137 192 107  82  46]\n",
      " [217  52 162 172  29 189  68 196 130 128]\n",
      " [ 79 124 181 122 177   6 183 113 114 130]\n",
      " [129 200 203  61  56 226 167  64 177  28]\n",
      " [182 176  59  70 144 112  84 176 194  90]\n",
      " [ 23  55 106  25  47 134 238  90 196 177]]\n"
     ]
    }
   ],
   "source": [
    "n=10\n",
    "A = np.random.randint(0, 256, size=(n, n))\n",
    "B = np.random.randint(0, 256, size=(n, n))\n",
    "\n",
    "def blend_images(image_A, image_B, weight_A, weight_B):\n",
    "    image_C = np.zeros((n, n))\n",
    "    image_C = weight_A * image_A + weight_B * image_B\n",
    "    return image_C.astype(int)\n",
    "\n",
    "w_A = np.random.rand() # weights can only be between 0 and 1 to ensure the values remain b/w the range [0-255]\n",
    "w_B = 1 - w_A # complement of w_A\n",
    "C = blend_images(A, B, w_A, w_B)\n",
    "\n",
    "print(C)"
   ]
  },
  {
   "cell_type": "markdown",
   "id": "a866e35b",
   "metadata": {},
   "source": [
    "### Problem-15\n",
    "\n",
    "Calculate the eigen values and eigen vectors of the following matrices.\n",
    "\n",
    "$A = \\begin{bmatrix}\n",
    "5 & 2 \\\\\n",
    "2 & 2\n",
    "\\end{bmatrix}$      \n",
    "\n",
    "$B = \\begin{bmatrix}\n",
    "1 & 1 & 0\\\\\n",
    "0 & 2 & 0\\\\\n",
    "-1 & 1 & 3\n",
    "\\end{bmatrix}$"
   ]
  },
  {
   "cell_type": "markdown",
   "id": "db6baf67",
   "metadata": {},
   "source": []
  },
  {
   "cell_type": "code",
   "execution_count": null,
   "id": "526609e6",
   "metadata": {},
   "outputs": [],
   "source": [
    "import numpy as np\n",
    "\n",
    "A = np.matrix([[5, 2],[2, 2]])"
   ]
  },
  {
   "cell_type": "code",
   "execution_count": 27,
   "id": "54a1aa1d",
   "metadata": {},
   "outputs": [
    {
     "data": {
      "text/plain": [
       "matrix([[5, 2],\n",
       "        [2, 2]])"
      ]
     },
     "execution_count": 27,
     "metadata": {},
     "output_type": "execute_result"
    }
   ],
   "source": [
    "A"
   ]
  },
  {
   "cell_type": "code",
   "execution_count": 23,
   "id": "17b39377",
   "metadata": {},
   "outputs": [],
   "source": [
    "values, vector = np.linalg.eig(A)"
   ]
  },
  {
   "cell_type": "code",
   "execution_count": 37,
   "id": "85e5cde8",
   "metadata": {},
   "outputs": [
    {
     "name": "stdout",
     "output_type": "stream",
     "text": [
      "the eigen values for matrix \n",
      "[[5 2]\n",
      " [2 2]] are:\n",
      " (np.float64(6.0), np.float64(1.0))\n"
     ]
    }
   ],
   "source": [
    "print(f'the eigen values for matrix \\n{A} are:\\n {values[0], values[1]}')"
   ]
  },
  {
   "cell_type": "code",
   "execution_count": 29,
   "id": "b2b5454a",
   "metadata": {},
   "outputs": [
    {
     "name": "stdout",
     "output_type": "stream",
     "text": [
      "the eigen unit vectors are (matrix([[ 0.89442719, -0.4472136 ]]), matrix([[0.4472136 , 0.89442719]]))\n"
     ]
    }
   ],
   "source": [
    "print(f'the eigen unit vectors are {vector[0] , vector[1]}')"
   ]
  },
  {
   "cell_type": "code",
   "execution_count": 42,
   "id": "b317eb0b",
   "metadata": {},
   "outputs": [
    {
     "name": "stdout",
     "output_type": "stream",
     "text": [
      "the eigen unit vectors for matrix \n",
      "[[5 2]\n",
      " [2 2]] are:\n",
      " (matrix([[ 0.89442719, -0.4472136 ]]), matrix([[0.4472136 , 0.89442719]]))\n"
     ]
    }
   ],
   "source": [
    "print(f'the eigen unit vectors for matrix \\n{A} are:\\n {vector[0], vector[1]}')"
   ]
  },
  {
   "cell_type": "code",
   "execution_count": 44,
   "id": "82aaf1a9",
   "metadata": {},
   "outputs": [
    {
     "data": {
      "text/plain": [
       "matrix([[ 1,  1,  0],\n",
       "        [ 0,  2,  0],\n",
       "        [-1,  1,  3]])"
      ]
     },
     "execution_count": 44,
     "metadata": {},
     "output_type": "execute_result"
    }
   ],
   "source": [
    "B = np.matrix([[1, 1, 0],[0, 2, 0], [-1, 1, 3]])\n",
    "B"
   ]
  },
  {
   "cell_type": "code",
   "execution_count": 45,
   "id": "d5112bdb",
   "metadata": {},
   "outputs": [],
   "source": [
    "values, vector = np.linalg.eig(B)"
   ]
  },
  {
   "cell_type": "code",
   "execution_count": 50,
   "id": "775f678e",
   "metadata": {},
   "outputs": [
    {
     "name": "stdout",
     "output_type": "stream",
     "text": [
      "the eigen values for matrix \n",
      "[[ 1  1  0]\n",
      " [ 0  2  0]\n",
      " [-1  1  3]] are:\n",
      " (np.float64(3.0), np.float64(1.0), np.float64(2.0))\n"
     ]
    }
   ],
   "source": [
    "print(f'the eigen values for matrix \\n{B} are:\\n {values[0], values[1], values[2]}')"
   ]
  },
  {
   "cell_type": "code",
   "execution_count": 56,
   "id": "6aaa2ac4",
   "metadata": {},
   "outputs": [
    {
     "name": "stdout",
     "output_type": "stream",
     "text": [
      "the eigen unit vectors for matrix \n",
      "[[ 1  1  0]\n",
      " [ 0  2  0]\n",
      " [-1  1  3]] are:\n",
      " [[0.         0.89442719 0.70710678]\n",
      " [0.         0.         0.70710678]\n",
      " [1.         0.4472136  0.        ]]\n"
     ]
    }
   ],
   "source": [
    "print(f'the eigen unit vectors for matrix \\n{B} are:\\n {vector}')"
   ]
  },
  {
   "cell_type": "code",
   "execution_count": null,
   "id": "38726d68",
   "metadata": {},
   "outputs": [],
   "source": []
  }
 ],
 "metadata": {
  "kernelspec": {
   "display_name": "data_science_vm",
   "language": "python",
   "name": "python3"
  },
  "language_info": {
   "codemirror_mode": {
    "name": "ipython",
    "version": 3
   },
   "file_extension": ".py",
   "mimetype": "text/x-python",
   "name": "python",
   "nbconvert_exporter": "python",
   "pygments_lexer": "ipython3",
   "version": "3.12.4"
  }
 },
 "nbformat": 4,
 "nbformat_minor": 5
}
