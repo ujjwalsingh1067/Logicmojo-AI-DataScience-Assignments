{
 "cells": [
  {
   "cell_type": "markdown",
   "id": "c187da20",
   "metadata": {},
   "source": [
    "# Assignment-6\n",
    "\n",
    "This notebook contains the questions to test the proficiency in `Statistics`.\n",
    "\n",
    "### Date: 28th June, 2025\n",
    "\n",
    "### Steps to solve and upload the assignment \n",
    "\n",
    "- Download the notebook in your local machine.\n",
    "- Solve the questions in the notebook and save it.\n",
    "- Rename the file as `Assignment-06-<your_name>_<your_surname>.ipynb`. For example if your name is Dipika Chopra then name the file as `Assignment-06-Dipika_Chopra.ipynb`.\n",
    "- For numerical problems you can either solve the same using using python in the solution notebook or you can solve it on paper and upload the scan pdf copy of the solution. \n",
    "- If you are solving it on paper then name the pdf file of the scan copy of the solution as `Assignment-06-<your_name>_<your_surname>.pdf`. For example if your name is Akash Kumar then name the file as `Assignment-06-Akash_Kumar.pdf`.\n",
    "- Upload the solved notebook and the scanned pdf copy of the solutions in the google drive location: https://drive.google.com/drive/folders/1VW5Z6l5r0mQTFbvvlhNNHnIlJ8A0yG5c?usp=sharing\n",
    "<h3><span style=\"color:red\"> Deadline: 19th July, 2025 </span></h3>"
   ]
  },
  {
   "cell_type": "markdown",
   "id": "3649d872",
   "metadata": {},
   "source": [
    "<h5><span style=\"color:blue\"> <b>Instructions:</b> Please answer all the questions. For problems requiring numerical solutions, you are encouraged to write code in Python to compute the results. Show your steps and explain your reasoning. </span></h5>"
   ]
  },
  {
   "cell_type": "markdown",
   "id": "1c96ba7f",
   "metadata": {},
   "source": [
    "### Problem-1\n",
    "\n",
    "A startup company with 20 employees recorded their annual salaries (in INR Lakhs):\n",
    "`[6.5, 7.2, 8.0, 6.8, 9.5, 7.0, 15.0, 7.5, 8.2, 6.9, 7.8, 10.5, 7.1, 8.5, 6.7, 7.3, 7.9, 9.0, 8.8, 7.6]`\n",
    "\n",
    "(a) Calculate the mean, median, and mode of the salaries.\n",
    "\n",
    "(b) Determine the range, variance, and standard deviation of the salaries.\n",
    "\n",
    "(c) Calculate the Interquartile Range (IQR). What does the IQR tell you about the salary distribution?\n",
    "\n",
    "(d) Construct a box plot for the salaries. Identify any potential outliers.\n"
   ]
  },
  {
   "cell_type": "code",
   "execution_count": 29,
   "id": "ecea35a4",
   "metadata": {},
   "outputs": [
    {
     "name": "stdout",
     "output_type": "stream",
     "text": [
      "(a) Mean: 8.19, Median: 7.70, Mode: 6.50\n",
      "(b) Range: 8.50, Variance: 3.62, Std Dev: 1.90\n",
      "(c) IQR: 1.50\n",
      "(d) Potential Outliers: [15.0]\n"
     ]
    },
    {
     "data": {
      "image/png": "[encoded data removed]",
      "text/plain": [
       "<Figure size 600x400 with 1 Axes>"
      ]
     },
     "metadata": {},
     "output_type": "display_data"
    }
   ],
   "source": [
    "import numpy as np\n",
    "import matplotlib.pyplot as plt\n",
    "from scipy import stats\n",
    "\n",
    "salary = [6.5, 7.2, 8.0, 6.8, 9.5, 7.0, 15.0, 7.5, 8.2, 6.9, \n",
    "          7.8, 10.5, 7.1, 8.5, 6.7, 7.3, 7.9, 9.0, 8.8, 7.6]\n",
    "\n",
    "# ------------------------\n",
    "# (a) Mean, Median, Mode\n",
    "# ------------------------\n",
    "mean_salary = np.mean(salary)\n",
    "median_salary = np.median(salary)\n",
    "mode_salary = stats.mode(salary, keepdims=True).mode[0]\n",
    "\n",
    "print(f\"(a) Mean: {mean_salary:.2f}, Median: {median_salary:.2f}, Mode: {mode_salary:.2f}\")\n",
    "\n",
    "# ------------------------\n",
    "# (b) Range, Variance, Standard Deviation\n",
    "# ------------------------\n",
    "salary_range = np.max(salary) - np.min(salary)\n",
    "variance = np.var(salary, ddof=1)  # sample variance\n",
    "std_dev = np.std(salary, ddof=1)   # sample std deviation\n",
    "\n",
    "print(f\"(b) Range: {salary_range:.2f}, Variance: {variance:.2f}, Std Dev: {std_dev:.2f}\")\n",
    "\n",
    "# ------------------------\n",
    "# (c) Interquartile Range (IQR)\n",
    "# ------------------------\n",
    "q1 = np.percentile(salary, 25)\n",
    "q3 = np.percentile(salary, 75)\n",
    "iqr = q3 - q1\n",
    "\n",
    "print(f\"(c) IQR: {iqr:.2f}\")\n",
    "\n",
    "# ------------------------\n",
    "# (d) Box Plot & Outliers\n",
    "# ------------------------\n",
    "# Calculate outliers based on IQR rule\n",
    "lower_bound = q1 - 1.5 * iqr\n",
    "upper_bound = q3 + 1.5 * iqr\n",
    "outliers = [s for s in salary if s < lower_bound or s > upper_bound]\n",
    "\n",
    "print(f\"(d) Potential Outliers: {outliers}\")\n",
    "\n",
    "# Plotting\n",
    "plt.figure(figsize=(6, 4))\n",
    "plt.boxplot(salary, vert=True)\n",
    "plt.title(\"Box Plot of Salaries\")\n",
    "plt.xlabel(\"Salary (INR Lakhs)\")\n",
    "plt.grid(True)\n",
    "plt.show()\n"
   ]
  },
  {
   "cell_type": "markdown",
   "id": "fea186a2",
   "metadata": {},
   "source": [
    "### Problem-2\n",
    "\n",
    "A tech company conducted a customer satisfaction survey, rating their latest product on a scale of 1 to 10 (10 being highly satisfied). The scores from 30 randomly selected customers are:\n",
    "[7, 8, 9, 6, 7, 8, 10, 5, 7, 8, 9, 7, 6, 8, 7, 9, 10, 6, 7, 8, 5, 9, 8, 7, 6, 7, 8, 9, 7, 8]\n",
    "\n",
    "(a) Create a frequency distribution table for these scores.\n",
    "\n",
    "(b) Plot a histogram of the customer satisfaction scores. Describe the shape of the distribution (e.g., symmetric, skewed).\n",
    "\n",
    "(c) Calculate the Pearson's (first and second) coefficients of skewness for this data. Interpret the values.\n",
    "\n",
    "(d) Calculate the excess kurtosis for this data using sample kurtosis formula. What does the kurtosis value suggest about the tails of the distribution?"
   ]
  },
  {
   "cell_type": "code",
   "execution_count": 161,
   "id": "398338e7",
   "metadata": {},
   "outputs": [
    {
     "name": "stdout",
     "output_type": "stream",
     "text": [
      "Frequency Distribution Table:\n",
      "   Score  Frequency\n",
      "0      5          2\n",
      "1      6          4\n",
      "2      7          9\n",
      "3      8          8\n",
      "4      9          5\n",
      "5     10          2\n"
     ]
    }
   ],
   "source": [
    "# Customer satisfaction scores\n",
    "scores = [7, 8, 9, 6, 7, 8, 10, 5, 7, 8, 9, 7, 6, 8, 7, 9, 10, 6, 7, 8, 5, 9, 8, 7, 6, 7, 8, 9, 7, 8]\n",
    "\n",
    "# (a) Frequency distribution function\n",
    "def freq_dist(data):\n",
    "    freq = {}\n",
    "    for val in sorted(set(data)):\n",
    "        freq[val] = data.count(val)\n",
    "    return freq\n",
    "\n",
    "# Generate frequency dictionary\n",
    "freq_dict = freq_dist(scores)\n",
    "\n",
    "# Convert to pandas DataFrame\n",
    "freq_df = pd.DataFrame(freq_dict.items(), columns=['Score', 'Frequency'])\n",
    "\n",
    "# Display the DataFrame\n",
    "print(\"Frequency Distribution Table:\")\n",
    "print(freq_df)"
   ]
  },
  {
   "cell_type": "code",
   "execution_count": null,
   "id": "3d888a91",
   "metadata": {},
   "outputs": [
    {
     "data": {
      "image/png": "[encoded data removed]",
      "text/plain": [
       "<Figure size 600x500 with 1 Axes>"
      ]
     },
     "metadata": {},
     "output_type": "display_data"
    }
   ],
   "source": [
    "import matplotlib.pyplot as plt\n",
    "\n",
    "# (b) Plot a histogram of the customer satisfaction scores\n",
    "plt.figure(figsize=(6, 5))\n",
    "plt.hist(scores, bins=len(set(scores)), color='grey', edgecolor='white')\n",
    "plt.title('Histogram of Customer Satisfaction Scores')\n",
    "plt.xlabel('Score')\n",
    "plt.ylabel('Frequency')\n",
    "plt.tight_layout()\n",
    "plt.show()"
   ]
  },
  {
   "cell_type": "markdown",
   "id": "280c106d",
   "metadata": {},
   "source": [
    "$$\n",
    "\\text{The shape of the distribution is approximately normal/symmetric.}\n",
    "$$"
   ]
  },
  {
   "cell_type": "markdown",
   "id": "0daa1be8",
   "metadata": {},
   "source": [
    "$$\n",
    "\\text{Pearson coeff} = \\frac{\\text{Cov}(X, Y)}{\\sqrt{\\text{Var}(X)} \\cdot \\sqrt{\\text{Var}(Y)}}\n",
    "$$"
   ]
  },
  {
   "cell_type": "code",
   "execution_count": 169,
   "id": "f74144b9",
   "metadata": {},
   "outputs": [
    {
     "name": "stdout",
     "output_type": "stream",
     "text": [
      "The Pearson correlation coefficient is: 0.0360375\n"
     ]
    }
   ],
   "source": [
    "# (c) Calculate the Pearson's (first and second) coefficients of skewness for this data. Interpret the values.\n",
    "\n",
    "def covariance(X, Y):\n",
    "    x_bar = X.mean()\n",
    "    y_bar = Y.mean()\n",
    "    n = X.shape[0]\n",
    "    cov = ((X - x_bar) @ (Y - y_bar)) / (n - 1)  # sample covariance\n",
    "    return cov\n",
    "\n",
    "# Sample standard deviations\n",
    "std_x = np.std(freq_df['Score'], ddof=1)\n",
    "std_y = np.std(freq_df['Frequency'], ddof=1)\n",
    "\n",
    "# Sample covariance\n",
    "cov = covariance(freq_df['Score'], freq_df['Frequency'])\n",
    "\n",
    "# Pearson's correlation coefficient\n",
    "corr = cov / (std_x * std_y)\n",
    "\n",
    "print(f'The Pearson correlation coefficient is: {corr:.7f}')"
   ]
  },
  {
   "cell_type": "code",
   "execution_count": 187,
   "id": "f5a79fea",
   "metadata": {},
   "outputs": [
    {
     "name": "stdout",
     "output_type": "stream",
     "text": [
      "Excess Kurtosis: -0.5140\n"
     ]
    }
   ],
   "source": [
    "# (d) Calculate the excess kurtosis for this data using sample kurtosis formula.\n",
    "\n",
    "from scipy.stats import kurtosis\n",
    "\n",
    "# Calculate excess kurtosis (sample version)\n",
    "excess_kurt = kurtosis(scores)  # default fisher=True → gives excess kurtosis\n",
    "\n",
    "print(f\"Excess Kurtosis: {excess_kurt:.4f}\")"
   ]
  },
  {
   "cell_type": "markdown",
   "id": "40907aaf",
   "metadata": {},
   "source": [
    "$$\n",
    "\\text{Since kurtosis } < 0 \\text{, this distribution has light tails and a lower probability of extreme values.}\n",
    "$$\n"
   ]
  },
  {
   "cell_type": "markdown",
   "id": "060b1079",
   "metadata": {},
   "source": [
    "### Problem-3\n",
    "\n",
    "A marketing team wants to understand the relationship between their monthly advertising expenditure (in INR Lakhs) and corresponding sales revenue (in INR Lakhs) over the last 10 months.\n",
    "\n",
    "| Month | Advertising Spend (X) | Sales Revenue (Y) |\n",
    "|-------|-----------------------|-------------------|\n",
    "|     1 |                     5 |                52 |\n",
    "|     2 |                     7 |                65 |\n",
    "|     3 |                     6 |                60 |\n",
    "|     4 |                     8 |                70 |\n",
    "|     5 |                     5 |                55 |\n",
    "|     6 |                     9 |                75 |\n",
    "|     7 |                     7 |                68 |\n",
    "|     8 |                    10 |                80 |\n",
    "|     9 |                     6 |                58 |\n",
    "|    10 |                     8 |                72 |\n",
    "\n",
    "\n",
    "(a) Calculate the covariance between advertising spend and sales revenue.\n",
    "\n",
    "(b) Plot Sales Revenue vs Advertising spent.\n",
    "\n",
    "(c) Calculate the Pearson correlation coefficient between advertising spend and sales revenue.\n",
    "\n",
    "(d) Interpret the meaning of both the covariance and the correlation coefficient in the context of this data."
   ]
  },
  {
   "cell_type": "code",
   "execution_count": 188,
   "id": "b03f6f4c",
   "metadata": {},
   "outputs": [
    {
     "name": "stdout",
     "output_type": "stream",
     "text": [
      "The Covariance is: 14.94\n",
      "The Pearson correlation coef is: 0.9852052\n"
     ]
    }
   ],
   "source": [
    "# (a)\n",
    "import pandas as pd\n",
    "\n",
    "# Define the data\n",
    "data = {\n",
    "    'month': [1, 2, 3, 4, 5, 6, 7, 8, 9, 10],\n",
    "    'ad_spend': [5, 7, 6, 8, 5, 9, 7, 10, 6, 8],\n",
    "    'revenue': [52, 65, 60, 70, 55, 75, 68, 80, 58, 72]\n",
    "}\n",
    "\n",
    "# Convert to DataFrame\n",
    "df = pd.DataFrame(data)\n",
    "\n",
    "# Display the DataFrame\n",
    "# print(df)\n",
    "\n",
    "def covariance(X, Y):\n",
    "    x_bar = X.mean()\n",
    "    y_bar = Y.mean()\n",
    "    n = X.shape[0]\n",
    "    cov = ((X - x_bar) @ (Y - y_bar)) / (n - 1)  # sample covariance\n",
    "    return cov\n",
    "\n",
    "# covariance\n",
    "cov = covariance(df['ad_spend'], df['revenue'])\n",
    "print(f'The Covariance is: {cov:.2f}')\n",
    "\n",
    "# Sample standard deviations\n",
    "std_x = np.std(df['ad_spend'], ddof=1)\n",
    "std_y = np.std(df['revenue'], ddof=1)\n",
    "\n",
    "# Pearson's correlation coefficient\n",
    "corr = cov / (std_x * std_y)\n",
    "\n",
    "print(f'The Pearson correlation coef is: {corr:.7f}')\n"
   ]
  },
  {
   "cell_type": "code",
   "execution_count": 189,
   "id": "a85e4b40",
   "metadata": {},
   "outputs": [
    {
     "data": {
      "image/png": "[encoded data removed]",
      "text/plain": [
       "<Figure size 600x500 with 1 Axes>"
      ]
     },
     "metadata": {},
     "output_type": "display_data"
    }
   ],
   "source": [
    "plt.figure(figsize=(6, 5))\n",
    "plt.scatter(df['ad_spend'], df['revenue'])\n",
    "# plt.hiscst(scores, bins=len(set(scores)), color='grey', edgecolor='white')\n",
    "plt.title('Scatterplot between Advertisment and Revenue')\n",
    "plt.xlabel('Advertisment')\n",
    "plt.ylabel('Revenue')\n",
    "plt.tight_layout()\n",
    "plt.show()"
   ]
  },
  {
   "cell_type": "markdown",
   "id": "0a9bceab",
   "metadata": {},
   "source": [
    "$$\n",
    "\\text{Since correlation coef is close to } 1 \\text{, there is a very strong relationship between Advertisment and Revenue.}\n",
    "$$\n"
   ]
  },
  {
   "cell_type": "markdown",
   "id": "6f4d1031",
   "metadata": {},
   "source": [
    "### Problem-4\n",
    "\n",
    "A traffic department claims that the average daily commute time for residents in a certain city is 45 minutes. A researcher believes this claim is too low and collects data from a random sample of 100 residents. The sample mean commute time is 48 minutes with a standard deviation of 12 minutes.\n",
    "\n",
    "(a) Formulate the null and alternative hypotheses for this scenario.\n",
    "\n",
    "(b) Construct a 95% confidence interval for the true average daily commute time.\n",
    "\n",
    "(c) Based on the confidence interval, what can you conclude about the traffic department's claim?"
   ]
  },
  {
   "cell_type": "markdown",
   "id": "4f7f3c63",
   "metadata": {},
   "source": [
    "$$\n",
    "H_0: \\mu = 45 \\quad \\text{(The average daily commute time is 45 minutes)} \\\\\n",
    "H_1: \\mu > 45 \\quad \\text{(The average daily commute time is greater than 45 minutes)} \\\\\n",
    "$$"
   ]
  },
  {
   "cell_type": "code",
   "execution_count": 217,
   "id": "a1370ef3",
   "metadata": {},
   "outputs": [
    {
     "name": "stdout",
     "output_type": "stream",
     "text": [
      "(b) 95% Confidence Interval: [np.float64(46.03), np.float64(49.97)]\n"
     ]
    }
   ],
   "source": [
    "# (b) Construct 95% Confidence Interval\n",
    "\n",
    "import numpy as np\n",
    "import scipy.stats as stats\n",
    "\n",
    "# UDF\n",
    "def z_alpha(alpha, tail):\n",
    "    return stats.norm.ppf(1 - alpha) if tail == 'one' else stats.norm.ppf(1 - alpha / 2)\n",
    "\n",
    "def z_statistic(sample_mean, pop_mean, se):\n",
    "    return (sample_mean - pop_mean) / se\n",
    "\n",
    "def p_value(z_stat):\n",
    "    return stats.norm.sf(abs(z_stat))\n",
    "\n",
    "def confidence_interval(mean, z, se):\n",
    "    return [round(mean - z * se, 2), round(mean + z * se, 2)]\n",
    "\n",
    "# Given\n",
    "n = 100              # Sample size\n",
    "pop_mean = 45        # Population mean (claimed)\n",
    "sample_mean = 48     # Sample mean\n",
    "std_dev = 12         # Sample standard deviation\n",
    "conf_level = 0.95    # Confidence level\n",
    "tail = 'one'         # Right-tailed test\n",
    "\n",
    "# Calculations\n",
    "alpha = 1 - conf_level\n",
    "se = std_dev / np.sqrt(n)\n",
    "z = z_alpha(alpha, tail)\n",
    "ci = confidence_interval(sample_mean, z, se)\n",
    "z_stat = z_statistic(sample_mean, pop_mean, se)\n",
    "p = p_value(z_stat)\n",
    "\n",
    "print(f\"(b) 95% Confidence Interval: {ci}\")"
   ]
  },
  {
   "cell_type": "markdown",
   "id": "000695b1",
   "metadata": {},
   "source": [
    "$$\n",
    "\\text{95\\% Confidence Interval: } [46.03,\\ 49.97]\n",
    "$$"
   ]
  },
  {
   "cell_type": "code",
   "execution_count": 220,
   "id": "7182992a",
   "metadata": {},
   "outputs": [
    {
     "name": "stdout",
     "output_type": "stream",
     "text": [
      "(c) z-statistic: 2.50, p-value: 0.006\n",
      "Since p-value 0.006 < α = 0.05, we reject the null hypothesis.\n",
      "Also, since the population mean 45 is below the lower CI boundary 46.03 ,\n",
      "we conclude that the average daily commute time is greater than 45 minutes.\n"
     ]
    }
   ],
   "source": [
    "# (c) Conclusion Based on Confidence Interval and p-value\n",
    "\n",
    "print(f\"(c) z-statistic: {z_stat:.2f}, p-value: {p:.3f}\")\n",
    "\n",
    "if p < alpha:\n",
    "    print(f\"Since p-value {p:.3f} < α = {alpha:.2f}, we reject the null hypothesis.\")\n",
    "else:\n",
    "    print(f\"Since p-value {p:.3f} > α = {alpha:.2f}, we fail to reject the null hypothesis.\")\n",
    "\n",
    "if pop_mean < ci[0]:\n",
    "    print(f\"Also, since the population mean {pop_mean} is below the lower CI boundary {ci[0]} ,\")\n",
    "    print(\"we conclude that the average daily commute time is greater than 45 minutes.\")\n"
   ]
  },
  {
   "cell_type": "markdown",
   "id": "a9967414",
   "metadata": {},
   "source": [
    "### Problem-5\n",
    "\n",
    "A manufacturing company wants to estimate the average number of units produced per hour by a new machine. They take 36 random observations and find the sample mean to be 150 units with a sample standard deviation of 15 units.\n",
    "\n",
    "(a) What is the point estimate for the true average number of units produced per hour?\n",
    "\n",
    "(b) Construct a 99% confidence interval for the true average number of units produced per hour.\n",
    "\n",
    "(c) If the company wants to be 99% confident that their estimate is within 3 units of the true mean, what sample size would they need (assuming the same standard deviation)?"
   ]
  },
  {
   "cell_type": "code",
   "execution_count": 227,
   "id": "6f7e12a1",
   "metadata": {},
   "outputs": [],
   "source": [
    "# The point estimate for the population mean is simply the sample mean.\n",
    "# So, the best estimate of the true average number of units produced per hour is **150 units**."
   ]
  },
  {
   "cell_type": "markdown",
   "id": "6a56ce85",
   "metadata": {},
   "source": [
    "$$\n",
    "\\hat{\\mu} = \\bar{x} = 150\n",
    "$$"
   ]
  },
  {
   "cell_type": "code",
   "execution_count": 225,
   "id": "4406a008",
   "metadata": {},
   "outputs": [
    {
     "name": "stdout",
     "output_type": "stream",
     "text": [
      "(b) 99% Confidence Interval: (np.float64(143.56), np.float64(156.44))\n"
     ]
    }
   ],
   "source": [
    "# Given data\n",
    "n = 36                 # sample size\n",
    "x_bar = 150            # sample mean\n",
    "s = 15                 # sample standard deviation\n",
    "conf_level = 0.99      # 99% confidence level\n",
    "\n",
    "# Calculations\n",
    "alpha = 1 - conf_level\n",
    "z_critical = stats.norm.ppf(1 - alpha / 2)  # two-tailed\n",
    "se = s / np.sqrt(n)\n",
    "margin_of_error = z_critical * se\n",
    "\n",
    "# Confidence interval\n",
    "ci_lower = x_bar - margin_of_error\n",
    "ci_upper = x_bar + margin_of_error\n",
    "ci = (round(ci_lower, 2), round(ci_upper, 2))\n",
    "\n",
    "print(f\"(b) 99% Confidence Interval: {ci}\")\n"
   ]
  },
  {
   "cell_type": "markdown",
   "id": "15e85fc8",
   "metadata": {},
   "source": [
    "We calculate the confidence interval using the formula:\n",
    "\n",
    "$$\n",
    "\\text{CI} = \\bar{x} \\pm z_{\\alpha/2} \\cdot \\frac{s}{\\sqrt{n}}\n",
    "$$\n",
    "\n",
    "Substituting values:\n",
    "\n",
    "$$\n",
    "CI = 150 \\pm 2.576 \\cdot \\frac{15}{\\sqrt{36}} = 150 \\pm 6.44\n",
    "$$\n",
    "\n",
    "$$\n",
    "\\text{99\\% Confidence Interval: } [143.56,\\ 156.44]\n",
    "$$\n"
   ]
  },
  {
   "cell_type": "code",
   "execution_count": 226,
   "id": "6788d160",
   "metadata": {},
   "outputs": [
    {
     "name": "stdout",
     "output_type": "stream",
     "text": [
      "(c) Required sample size (for 99% confidence and ±3 margin): 166\n"
     ]
    }
   ],
   "source": [
    "# Desired margin of error\n",
    "E = 3\n",
    "\n",
    "# Required sample size formula\n",
    "required_n = (z_critical * s / E) ** 2\n",
    "required_n = int(np.ceil(required_n))  # round up to ensure it's sufficient\n",
    "\n",
    "print(f\"(c) Required sample size (for 99% confidence and ±3 margin): {required_n}\")\n"
   ]
  },
  {
   "cell_type": "markdown",
   "id": "28c7a27a",
   "metadata": {},
   "source": [
    "### Problem-6\n",
    "\n",
    "A website designer believes that a new website redesign will increase the average time users spend on the site. Before the redesign, the average time spent was 3.5 minutes. After the redesign, a random sample of 50 users showed an average time of 3.8 minutes with a standard deviation of 1.0 minute.\n",
    "\n",
    "(a) Perform a one-sided hypothesis test at a 0.05 significance level to determine if the redesign significantly increased the average time spent.\n",
    "\n",
    "(b) State your null and alternative hypotheses, calculate the test statistic, and determine the p-value.\n",
    "\n",
    "(c) What is your conclusion regarding the website redesign's impact?"
   ]
  },
  {
   "cell_type": "markdown",
   "id": "90e184ac",
   "metadata": {},
   "source": [
    "$$\n",
    "H_0: \\mu = 3.5 \\quad \\text{(The redesign has no effect)} \\\\\n",
    "H_1: \\mu > 3.5 \\quad \\text{(The redesign increases average time)}\n",
    "$$"
   ]
  },
  {
   "cell_type": "code",
   "execution_count": 232,
   "id": "90c45610",
   "metadata": {},
   "outputs": [
    {
     "name": "stdout",
     "output_type": "stream",
     "text": [
      "Standard Error (SE): 0.141\n",
      "Z-statistic: 2.121\n",
      "Z-critical (α = 0.05): 1.645\n",
      "P-value: 0.017\n"
     ]
    }
   ],
   "source": [
    "# Inputs\n",
    "mu = 3.5\n",
    "x_bar = 3.8\n",
    "s = 1.0\n",
    "n = 50\n",
    "alpha = 0.05\n",
    "\n",
    "# Calculate standard error\n",
    "se = s / np.sqrt(n)\n",
    "\n",
    "# z-critical value for one-tailed test\n",
    "z_crit = z_alpha(alpha, 'one')\n",
    "\n",
    "# z-statistic\n",
    "z_stat = z_statistic(x_bar, mu, se)\n",
    "\n",
    "# p-value\n",
    "p = p_value(z_stat)\n",
    "\n",
    "print(f\"Standard Error (SE): {se:.3f}\")\n",
    "print(f\"Z-statistic: {z_stat:.3f}\")\n",
    "print(f\"Z-critical (α = 0.05): {z_crit:.3f}\")\n",
    "print(f\"P-value: {p:.3f}\")\n"
   ]
  },
  {
   "cell_type": "markdown",
   "id": "550e06df",
   "metadata": {},
   "source": [
    "Since the calculated z-statistic (2.12) is **greater** than the critical z-value (1.64), and\n",
    "the p-value (0.017) is **less** than the significance level (0.05), we **reject the null hypothesis**.\n",
    "\n",
    "**Conclusion**: There is statistically significant evidence that the website redesign will increase the average time users spend on the site."
   ]
  },
  {
   "cell_type": "markdown",
   "id": "b516b37d",
   "metadata": {},
   "source": [
    "### Problem-7\n",
    "\n",
    "A company implemented a new training program to improve employee productivity. To assess its effectiveness, 15 employees' productivity scores were recorded before and after the training program. The scores are as follows:\n",
    "\n",
    "| Employee | Before Training | After Training |\n",
    "|----------|-----------------|----------------|\n",
    "|        1 |              65 |             70 |\n",
    "|        2 |              70 |             72 |\n",
    "|        3 |              60 |             68 |\n",
    "|        4 |              75 |             73 |\n",
    "|        5 |              80 |             85 |\n",
    "|        6 |              68 |             70 |\n",
    "|        7 |              72 |             75 |\n",
    "|        8 |              62 |             65 |\n",
    "|        9 |              78 |             80 |\n",
    "|       10 |              70 |             72 |\n",
    "|       11 |              66 |             69 |\n",
    "|       12 |              73 |             76 |\n",
    "|       13 |              64 |             67 |\n",
    "|       14 |              71 |             74 |\n",
    "|       15 |              69 |             71 |\n",
    "\n",
    "(a) State the null and alternative hypotheses to test if the training program significantly improved productivity.\n",
    "\n",
    "(b) Conduct a paired samples t-test at a 0.05 significance level. Calculate the test statistic and the p-value.\n",
    "\n",
    "(c) Based on your analysis, did the training program effectively improve employee productivity?"
   ]
  },
  {
   "cell_type": "markdown",
   "id": "e75ff8e2",
   "metadata": {},
   "source": [
    "$$\n",
    "\\textbf{Null Hypothesis } (H_0): \\text{ The training program has no effect.} \\\\\n",
    "\\mu_d = 0\n",
    "$$\n",
    "\n",
    "$$\n",
    "\\textbf{Alternative Hypothesis } (H_1): \\text{ The program increases productivity.} \\\\\n",
    "\\mu_d < 0 \\quad \\text{(i.e., Before − After < 0)}\n",
    "$$\n",
    "\n",
    "$$\n",
    "\\text{This is a left-tailed paired t-test, because we're testing whether Before − After < 0}\n",
    "$$"
   ]
  },
  {
   "cell_type": "code",
   "execution_count": 267,
   "id": "085c07f9",
   "metadata": {},
   "outputs": [
    {
     "name": "stdout",
     "output_type": "stream",
     "text": [
      "t-statistic: -5.358\n",
      "t-critical (α = 0.05): -1.761\n",
      "p-value: 0.00005\n",
      "Reject the null hypothesis: Training significantly increased productivity.\n"
     ]
    }
   ],
   "source": [
    "import pandas as pd\n",
    "import numpy as np\n",
    "from scipy import stats\n",
    "\n",
    "# (a) Data\n",
    "data = {\n",
    "    'Before Training': [65, 70, 60, 75, 80, 68, 72, 62, 78, 70, 66, 73, 64, 71, 69],\n",
    "    'After Training':  [70, 72, 68, 73, 85, 70, 75, 65, 80, 72, 69, 76, 67, 74, 71]\n",
    "}\n",
    "df = pd.DataFrame(data)\n",
    "\n",
    "# (b) Calculate paired differences\n",
    "df['Difference'] = df['Before Training'] - df['After Training']\n",
    "d_bar = df['Difference'].mean()\n",
    "s_d = df['Difference'].std()\n",
    "n = len(df)\n",
    "se = s_d / np.sqrt(n)\n",
    "dof = n - 1\n",
    "\n",
    "# (b) Hypothesis test functions\n",
    "def t_statistic(mean_diff, mu_0, se): \n",
    "    return (mean_diff - mu_0) / se\n",
    "\n",
    "def critical_value(alpha, dof): \n",
    "    return stats.t.ppf(alpha, dof)\n",
    "\n",
    "def p_value(t_stat, dof): \n",
    "    return stats.t.cdf(t_stat, dof)  # Left-tailed\n",
    "\n",
    "# Significance level\n",
    "alpha = 0.05\n",
    "t_crit = critical_value(alpha, dof)\n",
    "t_stat = t_statistic(d_bar, 0, se)\n",
    "p = p_value(t_stat, dof)\n",
    "\n",
    "# (c) Output results\n",
    "print(f\"t-statistic: {t_stat:.3f}\")\n",
    "print(f\"t-critical (α = 0.05): {t_crit:.3f}\")\n",
    "print(f\"p-value: {p:.5f}\")\n",
    "\n",
    "# Interpretation\n",
    "if t_stat < t_crit and p < alpha:\n",
    "    print(\"Reject the null hypothesis: Training significantly increased productivity.\")\n",
    "else:\n",
    "    print(\"Fail to reject the null hypothesis: No significant improvement observed.\")\n"
   ]
  },
  {
   "cell_type": "markdown",
   "id": "a898305d",
   "metadata": {},
   "source": [
    "Conclusion:\n",
    "Based on the results the t-statistic is greater than t-critical value (in -ve direction) we can reject the null hypothesis and state that the new training program has been effective in increasing the scores "
   ]
  },
  {
   "cell_type": "markdown",
   "id": "428bf18a",
   "metadata": {},
   "source": [
    "### Problem-8\n",
    "\n",
    "A battery manufacturer claims that their new 'ProLife' battery lasts longer than their existing 'Standard' battery. A consumer watchdog organization tests 40 'ProLife' batteries and 50 'Standard' batteries. The results are:\n",
    "\n",
    "ProLife: Sample mean life = 120 hours, Sample standard deviation = 10 hours\n",
    "\n",
    "Standard: Sample mean life = 115 hours, Sample standard deviation = 12 hours\n",
    "\n",
    "(a) State the null and alternative hypotheses for testing the manufacturer's claim.\n",
    "\n",
    "(b) Perform a z-test for two independent means at a 0.02 significance level.\n",
    "\n",
    "(c) What is your conclusion regarding the manufacturer's claim about the 'ProLife' battery?"
   ]
  },
  {
   "cell_type": "markdown",
   "id": "acd05cb4",
   "metadata": {},
   "source": [
    "$$\n",
    "\\textbf{Null Hypothesis } (H_0): \\mu_p = \\mu_s \\quad \\text{(no difference)} \\\\\n",
    "\\textbf{Alternative Hypothesis } (H_1): \\mu_s < \\mu_p \\quad \\text{(ProLife lasts longer)} \\\\\n",
    "\\text{Right-tailed independent z-test at } \\alpha = 0.02\n",
    "$$"
   ]
  },
  {
   "cell_type": "code",
   "execution_count": 292,
   "id": "cfd8f2d3",
   "metadata": {},
   "outputs": [
    {
     "name": "stdout",
     "output_type": "stream",
     "text": [
      "Z-statistic: 2.156\n",
      "Z-critical value (α = 0.02): 2.054\n",
      "P-value: 0.0156\n",
      "Reject the null hypothesis: ProLife battery lasts longer.\n"
     ]
    }
   ],
   "source": [
    "import numpy as np\n",
    "from scipy import stats\n",
    "\n",
    "# Sample data\n",
    "x_s = 115   # Standard battery mean\n",
    "x_p = 120   # ProLife battery mean\n",
    "\n",
    "sd_s = 12   # Standard battery SD\n",
    "sd_p = 10   # ProLife battery SD\n",
    "\n",
    "n_s = 50    # Standard sample size\n",
    "n_p = 40    # ProLife sample size\n",
    "\n",
    "alpha = 0.02  # Significance level\n",
    "\n",
    "# --- z-test for two independent means ---\n",
    "\n",
    "# Step 1: Compute z-statistic\n",
    "def z_statistic(x1, x2, s1, s2, n1, n2):\n",
    "    numerator = x1 - x2\n",
    "    denominator = np.sqrt((s1**2)/n1 + (s2**2)/n2) #formula for z-statistic for 2 independent samples\n",
    "    return numerator / denominator\n",
    "\n",
    "# Step 2: Compute z-critical value (right-tailed)\n",
    "def z_critical(alpha):\n",
    "    return stats.norm.ppf(1 - alpha)\n",
    "\n",
    "# Step 3: Compute p-value from z-stat\n",
    "def p_value(z_stat):\n",
    "    return stats.norm.sf(z_stat)  # One-tailed (right side)\n",
    "\n",
    "# Calculate\n",
    "z_stat = z_statistic(x_p, x_s, sd_p, sd_s, n_p, n_s)\n",
    "z_crit = z_critical(alpha)\n",
    "p = p_value(z_stat)\n",
    "\n",
    "# Output\n",
    "print(f\"Z-statistic: {z_stat:.3f}\")\n",
    "print(f\"Z-critical value (α = 0.02): {z_crit:.3f}\")\n",
    "print(f\"P-value: {p:.4f}\")\n",
    "\n",
    "# Conclusion\n",
    "if z_stat > z_crit and p < alpha:\n",
    "    print(\"Reject the null hypothesis: ProLife battery lasts longer.\")\n",
    "else:\n",
    "    print(\"Fail to reject the null hypothesis: No significant evidence that ProLife lasts longer.\")\n"
   ]
  },
  {
   "cell_type": "markdown",
   "id": "50386871",
   "metadata": {},
   "source": [
    "$$\n",
    "\\textbf{Conclusion:} \\\\\n",
    "\\text{Since the observed } z\\text{-statistic is greater than the critical value (i.e., +ve; lies in the right tail),} \\\\\n",
    "\\text{we reject the null hypothesis. This provides sufficient evidence to conclude that the} \\\\\n",
    "\\text{ProLife battery has a longer life than the Standard battery.}\n",
    "$$"
   ]
  },
  {
   "cell_type": "markdown",
   "id": "47a73ee9",
   "metadata": {},
   "source": [
    "### Problem-9\n",
    "\n",
    "A popular restaurant chain claims that the average waiting time for a table on weekends is no more than 20 minutes. A local food critic believes it's longer. They record the waiting times (in minutes) for 30 randomly selected tables on various weekends:\n",
    "\n",
    "`[22, 25, 18, 30, 28, 20, 23, 26, 19, 32, 21, 24, 27, 29, 20, 25, 23, 17, 31, 26, 22, 28, 20, 24, 27, 29, 21, 23, 25, 26]`\n",
    "\n",
    "(a) Calculate the sample mean and sample standard deviation of the waiting times.\n",
    "\n",
    "(b) Conduct a one-sided t-test at a 0.01 significance level to assess the food critic's belief.\n",
    "\n",
    "(c) State your null and alternative hypotheses, calculate the test statistic, and determine the critical value.\n",
    "\n",
    "(d) Based on your findings, what can you tell the food critic?"
   ]
  },
  {
   "cell_type": "markdown",
   "id": "85e30fd8",
   "metadata": {},
   "source": [
    "$$\n",
    "H_0: \\mu \\leq 20 \\quad \\text{(The average waiting time is 20 minutes or less; restaurant’s claim)} \\\\\n",
    "\n",
    "H_1: \\mu > 20 \\quad \\text{(The average waiting time is greater than 20 minutes)} \\\\\n",
    "\n",
    "\\text{This is a one-sample right-tailed t-test at a given significance level (e.g., α=0.01)}\n",
    "$$"
   ]
  },
  {
   "cell_type": "code",
   "execution_count": null,
   "id": "936985a2",
   "metadata": {},
   "outputs": [
    {
     "name": "stdout",
     "output_type": "stream",
     "text": [
      "Sample mean: 24.37\n",
      "Sample std deviation: 3.93\n",
      "Standard error: 0.7168\n",
      "t-statistic: 6.092\n",
      "t-critical (α = 0.01): 2.462\n",
      "p-value: 0.00000\n",
      "Reject the null hypothesis: Average waiting time is greater than 20 minutes.\n"
     ]
    }
   ],
   "source": [
    "import numpy as np\n",
    "from scipy import stats\n",
    "\n",
    "samples = [22, 25, 18, 30, 28, 20, 23, 26, 19, 32, 21, 24, 27, 29, 20, \n",
    "           25, 23, 17, 31, 26, 22, 28, 20, 24, 27, 29, 21, 23, 25, 26]\n",
    "\n",
    "# Sample statistics\n",
    "x = np.mean(samples) #sample mean\n",
    "s = np.std(samples, ddof=1)  # sample std dev\n",
    "n = len(samples)\n",
    "mu = 20 # pop mean\n",
    "se = s / np.sqrt(n)\n",
    "dof = n - 1\n",
    "alpha = 0.01\n",
    "\n",
    "# Functions\n",
    "def t_statistic(x, mu, se): \n",
    "    return (x - mu) / se\n",
    "\n",
    "def critical_value(alpha, dof): \n",
    "    return stats.t.ppf(1 - alpha, dof)  # right-tailed\n",
    "\n",
    "\n",
    "def p_value(t_stat, dof): \n",
    "    return stats.t.sf(t_stat, dof)  # we use stats.t.sf for right-tail probability\n",
    "\n",
    "# Calculations\n",
    "t_stat = t_statistic(x, mu, se)\n",
    "t_crit = critical_value(alpha, dof)\n",
    "p = p_value(t_stat, dof)\n",
    "\n",
    "# Output\n",
    "print(f\"Sample mean: {x:.2f}\")\n",
    "print(f\"Sample std deviation: {s:.2f}\")\n",
    "print(f\"Standard error: {se:.4f}\")\n",
    "print(f\"t-statistic: {t_stat:.3f}\")\n",
    "print(f\"t-critical (α = 0.01): {t_crit:.3f}\")\n",
    "print(f\"p-value: {p:.5f}\")\n",
    "\n",
    "if t_stat > t_crit and p < alpha:\n",
    "    print(\"Reject the null hypothesis: Average waiting time is greater than 20 minutes.\")\n",
    "else:\n",
    "    print(\"Fail to reject the null hypothesis: Not enough evidence that wait time exceeds 20 minutes.\")"
   ]
  },
  {
   "cell_type": "markdown",
   "id": "46f803e4",
   "metadata": {},
   "source": [
    "**Conclusion:**\n",
    "\n",
    "$$\n",
    "t = 6.092 > t_{\\text{critical}} = 2.462 \\quad \\text{and} \\quad p < 0.01\n",
    "$$\n",
    "\n",
    "$$\n",
    "\\text{Reject the null hypothesis. There is strong evidence that the average waiting time is greater than 20 minutes}\n",
    "$$\n"
   ]
  },
  {
   "cell_type": "markdown",
   "id": "01477be1",
   "metadata": {},
   "source": [
    "### Problem-10\n",
    "\n",
    "A software company is launching a new application and offers three different subscription tiers (Basic, Premium, Elite), each with varying features. Before the full launch, they conduct a pilot study to see if there's an association between a customer's age group and their preferred subscription tier. They surveyed 300 randomly selected potential customers and recorded their age group and preferred tier:\n",
    "\n",
    "| Age Group   | Basic | Premium | Elite | Total |\n",
    "|-------------|-------|---------|-------|-------|\n",
    "| 18-29 years |    45 |      60 | 15    | 120   |\n",
    "| 30-49 years |    30 |      50 | 20    | 100   |\n",
    "|   50+ years |    25 |      40 | 15    | 80    |\n",
    "|       Total |   100 |     150 | 50    | 300   |\n",
    "\n",
    "\n",
    "(a) State the null and alternative hypotheses for the test of independence in this context.\n",
    "\n",
    "(b) Calculate the expected frequencies for each cell in the table, assuming the null hypothesis is true. Show your calculations clearly.\n",
    "\n",
    "(c) Calculate the chi-square test statistic.\n",
    "\n",
    "(d) Using a significance level of α=0.05, determine the critical value for this test.\n",
    "\n",
    "(e) What is your conclusion? Is there a significant association between a customer's age group and their preferred subscription tier? Justify your answer based on your calculated chi-square statistic and the critical value."
   ]
  },
  {
   "cell_type": "markdown",
   "id": "1747301c",
   "metadata": {},
   "source": [
    "$$\n",
    "\\textbf{Hypotheses:} \\\\\n",
    "\n",
    "H_0: \\text{There is no relationship between age group and subscription tiers.} \\\\\n",
    "\n",
    "H_1: \\text{There is a relationship between age group and subscription tiers.}\n",
    "$$"
   ]
  },
  {
   "cell_type": "code",
   "execution_count": 21,
   "id": "dd3d916c",
   "metadata": {},
   "outputs": [
    {
     "name": "stdout",
     "output_type": "stream",
     "text": [
      "=== Manual Calculation ===\n",
      "Chi-square test statistic: 3.187\n",
      "Degrees of freedom: 4\n",
      "Critical value (α = 0.05): 9.488\n",
      "Fail to reject the null hypothesis: No significant association.\n",
      "\n",
      "=== SciPy Built-in Test ===\n",
      "Chi-square test statistic: 3.188\n",
      "p-value: 0.5270\n",
      "Fail to reject the null hypothesis based on p-value.\n"
     ]
    }
   ],
   "source": [
    "import pandas as pd\n",
    "import numpy as np\n",
    "from scipy.stats import chi2, chi2_contingency\n",
    "\n",
    "# (a) Data\n",
    "data = {\n",
    "    'Age Group': ['18-29 years', '30-49 years', '50+ years', 'Total'],\n",
    "    'Basic': [45, 30, 25, 100],\n",
    "    'Premium': [60, 50, 40, 150],\n",
    "    'Elite': [15, 20, 15, 50],\n",
    "    'Total': [120, 100, 80, 300]\n",
    "}\n",
    "\n",
    "df = pd.DataFrame(data)\n",
    "\n",
    "# (b) Extract observed values (exclude 'Total' row and column)\n",
    "observed = df.iloc[0:3, 1:4]  # 3 rows, 3 columns\n",
    "\n",
    "# Compute row and column totals\n",
    "row_totals = observed.sum(axis=1)\n",
    "col_totals = observed.sum(axis=0)\n",
    "grand_total = observed.values.sum()\n",
    "\n",
    "# Compute expected frequencies\n",
    "expected = pd.DataFrame(index=observed.index, columns=observed.columns, dtype=float)\n",
    "\n",
    "for i in range(observed.shape[0]):\n",
    "    for j in range(observed.shape[1]):\n",
    "        expected.iloc[i, j] = (row_totals.iloc[i] * col_totals.iloc[j]) / grand_total\n",
    "\n",
    "# (c) Compute chi-square test statistic manually\n",
    "chisq_stat_manual = ((observed - expected) ** 2 / expected).values.sum()\n",
    "\n",
    "# (d) Compute critical value\n",
    "alpha = 0.05\n",
    "dof = (observed.shape[0] - 1) * (observed.shape[1] - 1)\n",
    "critical_value = chi2.ppf(1 - alpha, dof)\n",
    "\n",
    "# (e) Print manual results\n",
    "print(\"=== Manual Calculation ===\")\n",
    "print(f\"Chi-square test statistic: {chisq_stat_manual:.3f}\")\n",
    "print(f\"Degrees of freedom: {dof}\")\n",
    "print(f\"Critical value (α = 0.05): {critical_value:.3f}\")\n",
    "\n",
    "if chisq_stat_manual > critical_value:\n",
    "    print(\"Reject the null hypothesis: There is a significant association.\")\n",
    "else:\n",
    "    print(\"Fail to reject the null hypothesis: No significant association.\")\n",
    "\n",
    "# Optional: (f) Compare with built-in SciPy function\n",
    "chi2_stat, p_value, _, expected_builtin = chi2_contingency(observed)\n",
    "print(\"\\n=== SciPy Built-in Test ===\")\n",
    "print(f\"Chi-square test statistic: {chi2_stat:.3f}\")\n",
    "print(f\"p-value: {p_value:.4f}\")\n",
    "\n",
    "if p_value < alpha:\n",
    "    print(\"Reject the null hypothesis based on p-value.\")\n",
    "else:\n",
    "    print(\"Fail to reject the null hypothesis based on p-value.\")"
   ]
  },
  {
   "cell_type": "markdown",
   "id": "c27fd448",
   "metadata": {},
   "source": [
    "$$\n",
    "\\textbf{Conclusion:} \\\\\n",
    "\n",
    "\\text{Since the calculated chi-square test statistic } \\chi^2 = 3.187 \\text{ is less than the critical value } \\chi^2_{0.05, 4} = 9.488, \\text{ we fail to reject the null hypothesis.} \\\\\n",
    "\n",
    "\\text{There is no statistically significant evidence to suggest a relationship between age group and subscription tiers.}\n",
    "$$"
   ]
  },
  {
   "cell_type": "markdown",
   "id": "c3bf80f1",
   "metadata": {},
   "source": [
    "### Bonus Problem\n",
    "\n",
    "An e-commerce company is testing two different designs for its product pages (Design A and Design B) to see if one leads to significantly higher conversion rates (percentage of visitors who make a purchase). They randomly assigned 50,000 website visitors to see Design A and another 50,000 visitors to see Design B over a two-week period. At the end of the period, they collected data on the conversion rates. Due to data collection specifics, they have daily average conversion rates for 30 randomly selected days for each design, rather than individual visitor data.\n",
    "\n",
    "Here are the summary statistics for the daily average conversion rates (in percentage points):\n",
    "\n",
    "* Design A (Sample 1):\n",
    "\n",
    "    - Number of days ($n_A$) = 30\n",
    "    - Mean Daily Conversion Rate ($\\bar{x}_A$) = 2.85%\n",
    "    - Sample Standard Deviation ($s_A$) = 0.45%\n",
    "\n",
    "* Design B (Sample 2):\n",
    "\n",
    "    - Number of days ($n_B$) = 30\n",
    "    - Mean Daily Conversion Rate ($\\bar{x}_B$) = 3.05%\n",
    "    - Sample Standard Deviation ($s_B$) = 0.60%\n",
    "\n",
    "The company is concerned that the variability in conversion rates might differ between the two designs due to different aesthetic elements or backend processes.\n",
    "\n",
    "(a) State the null and alternative hypotheses to test if there is a significant difference in the average daily conversion rates between Design A and Design B. (Consider a two-tailed test, as they are looking for any significant difference).\n",
    "\n",
    "(b) Before performing the t-test, you need to decide whether to assume equal or unequal population variances. For the purpose of this problem, assume that a prior test suggests unequal population variances.\n",
    "\n",
    "(c) Calculate the appropriate test statistic (t-value) for comparing the two independent means, assuming equal population variances. Show all steps of your calculation.\n",
    "\n",
    "(d) Determine the degrees of freedom for this test. \n",
    "\n",
    "(e) Using a significance level of α=0.05, determine the critical value(s) for your test.\n",
    "\n",
    "(f) Based on your calculated test statistic and the critical value(s), what is your conclusion? Is there a statistically significant difference in the average daily conversion rates between Design A and Design B?\n",
    "\n",
    "(g) Construct a 95% confidence interval for the difference between the true mean daily conversion rates $(μ_B - μ_A)$. Interpret this interval in the context of the problem."
   ]
  },
  {
   "cell_type": "markdown",
   "id": "402dd1a9",
   "metadata": {},
   "source": [
    "$$\n",
    "\\textbf{Hypotheses:} \\\\\n",
    "\n",
    "H_0: \\mu_A = \\mu_B \\quad \\text{(There is no difference in the average daily conversion rates between Design A and Design B)} \\\\\n",
    "\n",
    "H_1: \\mu_A \\ne \\mu_B \\quad \\text{(There is a difference in the average daily conversion rates between Design A and Design B)}\n",
    "$$"
   ]
  },
  {
   "cell_type": "code",
   "execution_count": null,
   "id": "cb9e6a24",
   "metadata": {},
   "outputs": [
    {
     "name": "stdout",
     "output_type": "stream",
     "text": [
      "Pooled Std Dev (s_p): 0.5303\n",
      "t-statistic: -1.4606\n",
      "t-critical (two-tailed, α=0.05): 2.0017\n",
      "p-value: 0.1495\n",
      "Difference in means: -0.2000\n",
      "95% Confidence Interval: [np.float64(-0.4740964549547085), np.float64(0.07409645495470901)]\n"
     ]
    }
   ],
   "source": [
    "# Pooled t-test for equal variance\n",
    "\n",
    "import numpy as np\n",
    "from scipy import stats\n",
    "\n",
    "# Given data\n",
    "x_a, s_a, n_a = 2.85, 0.45, 30\n",
    "x_b, s_b, n_b = 3.05, 0.60, 30\n",
    "alpha = 0.05\n",
    "ddof = n_a + n_b - 2\n",
    "\n",
    "# Pooled standard deviation\n",
    "s_p = np.sqrt(((n_a - 1) * s_a**2 + (n_b - 1) * s_b**2) / ddof)\n",
    "\n",
    "# t-statistic\n",
    "t_stat = (x_a - x_b) / (s_p * np.sqrt(1/n_a + 1/n_b))\n",
    "\n",
    "# Critical value and p-value\n",
    "t_crit = stats.t.ppf(1 - alpha / 2, ddof)\n",
    "p_value = 2 * (1 - stats.t.cdf(abs(t_stat), ddof))\n",
    "\n",
    "# Print results\n",
    "print(f\"Pooled Std Dev (s_p): {s_p:.4f}\")\n",
    "print(f\"t-statistic: {t_stat:.4f}\")\n",
    "print(f\"t-critical (two-tailed, α=0.05): {t_crit:.4f}\")\n",
    "print(f\"p-value: {p_value:.4f}\")\n",
    "\n",
    "# Confidence interval for the difference in means\n",
    "x_diff = x_a - x_b\n",
    "margin_of_error = t_crit * s_p * np.sqrt(1/n_a + 1/n_b)\n",
    "confidence_interval = [x_diff - margin_of_error, x_diff + margin_of_error]\n",
    "\n",
    "print(f\"Difference in means: {x_diff:.4f}\")\n",
    "print(f\"95% Confidence Interval: {confidence_interval}\")\n"
   ]
  },
  {
   "cell_type": "markdown",
   "id": "fa88ed28",
   "metadata": {},
   "source": [
    "$$\n",
    "\\textbf{Conclusion:} \\\\\n",
    "\\text{Since the p-value is > 0.05 and 95\\% confidence interval } [-0.472,\\ 0.072] \\text{ includes 0, we fail to reject the null hypothesis.} \\\\\n",
    "\\text{There is no statistically significant difference in the mean conversion rates between Design A and Design B.}\n",
    "$$"
   ]
  },
  {
   "cell_type": "code",
   "execution_count": 14,
   "id": "960d4a20",
   "metadata": {},
   "outputs": [
    {
     "name": "stdout",
     "output_type": "stream",
     "text": [
      "Welch t-statistic: -1.4606\n",
      "Welch degrees of freedom: 53.78\n",
      "Critical value (two-tailed): 2.0051\n",
      "p-value: 0.1499\n",
      "95% CI for difference in means: [np.float64(-0.47455472788478875), np.float64(0.07455472788478928)]\n"
     ]
    }
   ],
   "source": [
    "# Welch’s t-test for unequal variance\n",
    "\n",
    "import numpy as np\n",
    "from scipy import stats\n",
    "\n",
    "# Sample inputs\n",
    "x1, s1, n1 = 2.85, 0.45, 30\n",
    "x2, s2, n2 = 3.05, 0.60, 30\n",
    "alpha = 0.05\n",
    "\n",
    "# t-statistic for Welch's t-test\n",
    "se = np.sqrt((s1**2)/n1 + (s2**2)/n2)\n",
    "t_welch = (x1 - x2) / se\n",
    "\n",
    "# Welch-Satterthwaite degrees of freedom\n",
    "df_num = ((s1**2 / n1 + s2**2 / n2)**2)\n",
    "df_denom = ((s1**2 / n1)**2) / (n1 - 1) + ((s2**2 / n2)**2) / (n2 - 1)\n",
    "df_welch = df_num / df_denom\n",
    "\n",
    "# critical value (two-tailed)\n",
    "t_crit_welch = stats.t.ppf(1 - alpha/2, df_welch)\n",
    "\n",
    "# p-value\n",
    "p_welch = 2 * stats.t.sf(abs(t_welch), df_welch)\n",
    "\n",
    "# Confidence interval\n",
    "diff_means = x1 - x2\n",
    "margin_error = t_crit_welch * se\n",
    "ci_welch = [diff_means - margin_error, diff_means + margin_error]\n",
    "\n",
    "# Output\n",
    "print(f\"Welch t-statistic: {t_welch:.4f}\")\n",
    "print(f\"Welch degrees of freedom: {df_welch:.2f}\")\n",
    "print(f\"Critical value (two-tailed): {t_crit_welch:.4f}\")\n",
    "print(f\"p-value: {p_welch:.4f}\")\n",
    "print(f\"95% CI for difference in means: {ci_welch}\")\n"
   ]
  },
  {
   "cell_type": "markdown",
   "id": "f4379d41",
   "metadata": {},
   "source": [
    "$$\n",
    "\\textbf{Conclusion:} \\\\\n",
    "\\text{The results are pretty similar to pooled t-test } [-0.474,\\ 0.074] \\text{ includes 0, we fail to reject the null hypothesis.} \\\\\n",
    "\\text{There is no statistically significant difference in the mean conversion rates between Design A and Design B.}\n",
    "$$"
   ]
  }
 ],
 "metadata": {
  "kernelspec": {
   "display_name": "data_science_vm",
   "language": "python",
   "name": "python3"
  },
  "language_info": {
   "codemirror_mode": {
    "name": "ipython",
    "version": 3
   },
   "file_extension": ".py",
   "mimetype": "text/x-python",
   "name": "python",
   "nbconvert_exporter": "python",
   "pygments_lexer": "ipython3",
   "version": "3.12.4"
  }
 },
 "nbformat": 4,
 "nbformat_minor": 5
}
