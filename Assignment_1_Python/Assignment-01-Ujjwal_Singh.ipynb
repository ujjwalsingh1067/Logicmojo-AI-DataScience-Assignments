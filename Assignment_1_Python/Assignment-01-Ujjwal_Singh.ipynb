{
 "cells": [
  {
   "cell_type": "markdown",
   "id": "cf39e36c-305d-456a-b9e0-02a04cea95b0",
   "metadata": {},
   "source": [
    "# Assignment-1\n",
    "\n",
    "This notebook contains the coding questions to test the proficiency in basic python.\n",
    "\n",
    "### Date: 22nd April, 2025\n",
    "\n",
    "### Steps to solve and upload the assignment \n",
    "\n",
    "- Download the notebook in your local machine.\n",
    "- Solve the questions in the notebook and save it.\n",
    "- Rename the file as `Assignment-01-<your_name>_<your_surname>.ipynb`. For example if your name is Dipika Chopra then name the file as `Assignment-01-Dipika_Chopra.ipynb`.\n",
    "- Upload the solved notebook in the google drive location: https://drive.google.com/drive/folders/1ocablnD-nmo2Q1d4Q35BtJMcIMdwONK0?usp=sharing\n",
    "\n",
    "<h3><span style=\"color:red\"> Deadline: 30th April, 2025 </span></h3>"
   ]
  },
  {
   "cell_type": "markdown",
   "id": "fae8a82b-4baa-48a5-b7b0-cc0a77cd8419",
   "metadata": {},
   "source": [
    "#### Question-1\n",
    "\n",
    "Write a function `second_largest(numbers)` that takes a list of numbers and returns the second largest number in the list. Assume the list has at least two unique numbers.\n",
    "\n",
    "Example:\n",
    "```python\n",
    "numbers = [10, 5, 20, 8, 15]\n",
    "second = second_largest(numbers)\n",
    "print(second)\n",
    "# Expected output: 15\n",
    "```"
   ]
  },
  {
   "cell_type": "code",
   "execution_count": 512,
   "id": "c59cc6dd-bf81-4e61-9d19-e086c6ebc1cf",
   "metadata": {},
   "outputs": [
    {
     "name": "stdout",
     "output_type": "stream",
     "text": [
      "15\n"
     ]
    }
   ],
   "source": [
    "def second_largest(numbers):\n",
    "    # Ensure there are at least two unique numbers\n",
    "    assert len(set(numbers)) >= 2, \"Please provide at least two unique numbers in the list\"\n",
    "    \n",
    "    # Convert to a set to remove duplicates, sort in descending order, and get the second item\n",
    "    unique_sorted = sorted(set(numbers), reverse=True)\n",
    "    return unique_sorted[1]\n",
    "\n",
    "# Example list\n",
    "numbers = [10, 5, 20, 8, 15, 10, 20, 20, 20]\n",
    "\n",
    "# Call the function and print the result\n",
    "print(second_largest(numbers)) "
   ]
  },
  {
   "cell_type": "markdown",
   "id": "d36297be-09c5-4cda-8b52-281566a62f65",
   "metadata": {},
   "source": [
    "#### Question-2\n",
    "\n",
    "Write a function `count_vowels(text)` that takes a string as input and returns the number of vowels (a, e, i, o, u - case-insensitive) present in the string.\n",
    "\n",
    "Example:\n",
    "```python\n",
    "text = \"Hello World\"\n",
    "vowel_count = count_vowels(text)\n",
    "print(vowel_count)\n",
    "# Expected output: 3\n",
    "```\n"
   ]
  },
  {
   "cell_type": "code",
   "execution_count": 518,
   "id": "6eb454ae-a9d2-4f1d-973a-216dbe7a4045",
   "metadata": {},
   "outputs": [
    {
     "name": "stdin",
     "output_type": "stream",
     "text": [
      "Please Enter Text: I want to be an ML engineer\n"
     ]
    },
    {
     "name": "stdout",
     "output_type": "stream",
     "text": [
      "['a', 'e', 'i', 'o'] are all the vowels used in \"I want to be an ML engineer\", and the total vowel count is 9\n"
     ]
    }
   ],
   "source": [
    "def count_vowels(text):\n",
    "    vowels = 'aeiou'\n",
    "    all_vowels = [char for char in text.lower() if char in vowels]\n",
    "    unique_vowels = sorted(set(all_vowels))\n",
    "    return unique_vowels, len(all_vowels)\n",
    "\n",
    "text = input(\"Please Enter Text:\")\n",
    "vowel_list, vowel_count = count_vowels(text)\n",
    "print(f'{vowel_list} are all the vowels used in \"{text}\", and the total vowel count is {vowel_count}')"
   ]
  },
  {
   "cell_type": "markdown",
   "id": "1896a5da-319f-483a-835d-a08b0710a728",
   "metadata": {},
   "source": [
    "#### Question-3\n",
    "\n",
    "Write a Python program to print all the prime numbers between 1 and N (inclusive). Where N is a positive integer and an input from user.\n",
    "\n",
    "Example:\n",
    "\n",
    "```python\n",
    "N = 20\n",
    "# Expected output: 2,3,5,7,11,13,17,19\n",
    "\n",
    "```"
   ]
  },
  {
   "cell_type": "code",
   "execution_count": 519,
   "id": "a90a5252-031f-46aa-9e9b-117ae775f40f",
   "metadata": {},
   "outputs": [
    {
     "name": "stdin",
     "output_type": "stream",
     "text": [
      "Provide a number to print all prime numbers up to N:  50\n"
     ]
    },
    {
     "name": "stdout",
     "output_type": "stream",
     "text": [
      "All the prime numbers between 1 and 50 are: [2, 3, 5, 7, 11, 13, 17, 19, 23, 29, 31, 37, 41, 43, 47]\n"
     ]
    }
   ],
   "source": [
    "import math\n",
    "\n",
    "def prime_test(N):\n",
    "    prime = []  # Empty list to collect all prime numbers\n",
    "\n",
    "    # Loop through numbers from 2 to N\n",
    "    for i in range(2, N + 1):\n",
    "\n",
    "        # 2 is the only even prime number\n",
    "        if i == 2:\n",
    "            prime.append(i)\n",
    "\n",
    "        # Skip all other even numbers\n",
    "        elif i % 2 != 0:\n",
    "            is_prime = True  # Assume the number is prime, reset the flag to True\n",
    "\n",
    "            # Check divisibility only using already found primes\n",
    "            for j in prime:\n",
    "                if i % j == 0:\n",
    "                    is_prime = False  # Not prime if divisible by any smaller prime\n",
    "                    break\n",
    "                elif j > int(math.isqrt(i)):\n",
    "                    break  # Optimization: stop checking if j > sqrt(i)\n",
    "\n",
    "            # If still marked as prime, add to list\n",
    "            if is_prime:\n",
    "                prime.append(i)\n",
    "\n",
    "    return prime  # Return list of all primes found\n",
    "\n",
    "# Get input from the user\n",
    "N = int(input(\"Provide a number to print all prime numbers up to N: \"))\n",
    "\n",
    "# Call the function and print the result\n",
    "primes = prime_test(N)\n",
    "print(f'All the prime numbers between 1 and {N} are: {primes}')\n"
   ]
  },
  {
   "cell_type": "markdown",
   "id": "7e9eedf0-23e7-4eb0-94f3-2ca0c23d9bad",
   "metadata": {},
   "source": [
    "#### Question-4\n",
    "\n",
    "Write a function `merge_sorted_lists(list1, list2)` that takes two sorted lists of integers, `list1` and `list2` and merges them into a single sorted list efficiently. One way is to simple concatenate the lists and sort. But think of a better approach.\n",
    "\n",
    "Example:\n",
    "```python\n",
    "list1 = [1, 4, 5]\n",
    "list2 = [1, 3, 4]\n",
    "merged = merge_sorted_lists(list1, list2)\n",
    "print(merged)\n",
    "# Expected output: [1, 1, 3, 4, 4, 5]\n",
    "```"
   ]
  },
  {
   "cell_type": "code",
   "execution_count": 535,
   "id": "fe2676dc-a80f-4205-b1fb-486a2e628598",
   "metadata": {},
   "outputs": [
    {
     "name": "stdout",
     "output_type": "stream",
     "text": [
      "[1, 1, 3, 4, 4, 5]\n"
     ]
    }
   ],
   "source": [
    "# Raw Logic :\n",
    "# iterate list1: for i in range(0, len(list1):\n",
    "    # pointer = 0 --reset pointer\n",
    "# iterate list2: for j in range(0, len(list2)\n",
    "# check if list1[i] > list2[j] --if 1st element of l1 is greater than the 1st element of l2 then move the pointer to next index\n",
    "    # pointer = j+1 and continue\n",
    "# else if list1[0] <= list2[0] --if 1st element of l1 is less or equal than the l2 jth element then insert the element in pointer position\n",
    "    # insert list1[i] in list2[pointer] position\n",
    "    # break loop j --since the list is sorted, the element cannot be greater than other elements in l2\n",
    "    # iterate i\n",
    "# else if the list ended and no other element to compare \n",
    "    # instert list1[i] at the end of the list2 \n",
    "\n",
    "def merge_sorted_lists(list1, list2):\n",
    "    pointer = 0  # Tracks current index in list2\n",
    "\n",
    "    for i in range(len(list1)):\n",
    "        inserted = False  # Flag to track if we inserted list1[i]\n",
    "\n",
    "        # Loop through list2 from current pointer\n",
    "        for j in range(pointer, len(list2)):\n",
    "            if list1[i] > list2[j]:\n",
    "                pointer = j + 1  # Move pointer forward if current list2[j] is smaller, do not insert\n",
    "            else:\n",
    "                # Insert list1[i] before list2[j], at pointer\n",
    "                list2.insert(pointer, list1[i])\n",
    "                inserted = True\n",
    "                pointer += 1  # Update pointer to reflect new insertion\n",
    "                break\n",
    "\n",
    "        # If no insertion happened in the loop, append at the end\n",
    "        if not inserted:\n",
    "            list2.insert(pointer, list1[i])\n",
    "            pointer += 1\n",
    "\n",
    "    return list2\n",
    "\n",
    "list1 = [1, 4, 5]\n",
    "list2 = [1, 3, 4]\n",
    "\n",
    "new_list = merge_sorted_lists(list1, list2)\n",
    "print(new_list)"
   ]
  },
  {
   "cell_type": "markdown",
   "id": "3c21c6f4-3fc7-476f-8ae3-ca81ca419973",
   "metadata": {},
   "source": [
    "#### Question-5\n",
    "\n",
    "Create a dictionary like: `student_grades = {\"Alice\": 85, \"Bob\": 92, \"Charlie\": 78}`. Write Python code to find and print the name of the student with the highest grade.\n",
    "\n",
    "Example:\n",
    "```python\n",
    "student_grades = {\"Alice\": 85, \"Bob\": 92, \"Charlie\": 78}\n",
    "# Expected output: Bob\n",
    "```"
   ]
  },
  {
   "cell_type": "code",
   "execution_count": 536,
   "id": "4189c02b-fbca-4ca5-abdc-eab31a5b0578",
   "metadata": {},
   "outputs": [
    {
     "name": "stdout",
     "output_type": "stream",
     "text": [
      "Bob\n"
     ]
    }
   ],
   "source": [
    "def top_student(grades):\n",
    "    # Convert the dictionary into a list of (student, grade) tuples\n",
    "    # Sort the list by grades (second element) in descending order\n",
    "    # Select the first tuple and return the student's name (first element)\n",
    "    return sorted(grades.items(), key=lambda x: x[1], reverse=True)[0][0]\n",
    "\n",
    "# dictionary of students and their grades\n",
    "student_grades = {\"Alice\": 85, \"Bob\": 92, \"Charlie\": 78}\n",
    "\n",
    "# call the function and print the name of the top student\n",
    "print(top_student(student_grades))"
   ]
  },
  {
   "cell_type": "markdown",
   "id": "a4799b88-d567-4b82-b640-941633d21138",
   "metadata": {},
   "source": [
    "#### Question-6\n",
    "\n",
    "Write a function `is_anagram(str1, str2)` that checks if two given strings are anagrams of each other (contain the same characters with the same frequencies, ignoring case).\n",
    "\n",
    "Example:\n",
    "```python\n",
    "print(is_anagram(\"listen\", \"silent\"))\n",
    "print(is_anagram(\"hello\", \"world\"))\n",
    "# Expected output:\n",
    "# True\n",
    "# False\n",
    "```"
   ]
  },
  {
   "cell_type": "code",
   "execution_count": 537,
   "id": "530c2013-c0d5-4a71-a7f6-435fb11eb440",
   "metadata": {},
   "outputs": [
    {
     "name": "stdin",
     "output_type": "stream",
     "text": [
      "Please enter string 1:  listen\n",
      "Please enter string 2:  silent\n"
     ]
    },
    {
     "name": "stdout",
     "output_type": "stream",
     "text": [
      "The strings are anagrams.\n"
     ]
    }
   ],
   "source": [
    "def is_anagram(s1, s2):\n",
    "    # Convert both strings to lowercase, sort them, and compare\n",
    "    return sorted(s1.lower()) == sorted(s2.lower())\n",
    "\n",
    "# Get input from the user\n",
    "str1 = input(\"Please enter string 1: \")\n",
    "str2 = input(\"Please enter string 2: \")\n",
    "\n",
    "# Check if they are anagrams and print the result\n",
    "if is_anagram(str1, str2):\n",
    "    print(\"The strings are anagrams.\")\n",
    "else:\n",
    "    print(\"The strings are not anagrams.\")"
   ]
  },
  {
   "cell_type": "markdown",
   "id": "4ede0c1c-0af8-4cbb-b9af-9cb2a200ab9d",
   "metadata": {},
   "source": [
    "#### Question-7\n",
    "\n",
    "Write a function `rotate_list(lst, k)` that rotates a given list lst to the right by `k` positions in-place. Assume `k` is a non-negative integer and can be greater than the length of the list.\n",
    "\n",
    "Example:\n",
    "\n",
    "```python\n",
    "my_list = [1, 2, 3, 4, 5]\n",
    "rotate_list(my_list, 2)\n",
    "print(my_list)\n",
    "# Expected output: [4, 5, 1, 2, 3]\n",
    "```"
   ]
  },
  {
   "cell_type": "code",
   "execution_count": 525,
   "id": "79208cf3-a665-4552-ad5f-f292858d84f6",
   "metadata": {},
   "outputs": [
    {
     "name": "stdin",
     "output_type": "stream",
     "text": [
      "Please enter the number of positions to rotate the list:  3\n"
     ]
    },
    {
     "name": "stdout",
     "output_type": "stream",
     "text": [
      "Rotated List: [4, 5, 6, 1, 2, 3]\n"
     ]
    }
   ],
   "source": [
    "# Rotation Logic:\n",
    "# Rotate the list to the right by k positions, wrapping elements around.\n",
    "# Basic idea: Pop the last element and insert it at the front, repeating this k times.\n",
    "\n",
    "# Rotation examples:\n",
    "# k = 0 → [1, 2, 3, 4, 5]        (no change)\n",
    "# k = 1 → [5, 1, 2, 3, 4]\n",
    "# k = 2 → [4, 5, 1, 2, 3]\n",
    "# k = 3 → [3, 4, 5, 1, 2]\n",
    "# k = 4 → [2, 3, 4, 5, 1]\n",
    "# k = 5 → [1, 2, 3, 4, 5]        (full rotation, returns to original)\n",
    "# k = 6 → [5, 1, 2, 3, 4]        (same as k = 1, since 6 % 5 = 1)\n",
    "\n",
    "\n",
    "def rotate_list(lst, k):\n",
    "    n = len(lst)\n",
    "    k = k % n  # Normalize k to avoid full redundant rotations\n",
    "\n",
    "    # Rotate the list right by popping and prepending k times\n",
    "    for _ in range(k):\n",
    "        popped = lst.pop()         # Remove last element\n",
    "        lst[:] = [popped] + lst    # Insert it at the front (in-place)\n",
    "\n",
    "# Example usage\n",
    "my_list = [1, 2, 3, 4, 5, 6]\n",
    "k = int(input(\"Please enter the number of positions to rotate the list: \"))\n",
    "rotate_list(my_list, k)\n",
    "print(\"Rotated List:\", my_list)\n"
   ]
  },
  {
   "cell_type": "markdown",
   "id": "c2bb2490-9374-47ff-b4c6-a27767108436",
   "metadata": {},
   "source": [
    "#### Question-8\n",
    "\n",
    "You have a list of dictionaries, where each dictionary represents a product with keys \"name\", \"price\", and \"category\". Write a function group_by_category(products) that takes this list and returns a dictionary where the keys are the unique categories and the values are lists of product names belonging to that category.\n",
    "\n",
    "Example:\n",
    "\n",
    "```python\n",
    "products = [\n",
    "    {\"name\": \"Laptop\", \"price\": 1200, \"category\": \"Electronics\"},\n",
    "    {\"name\": \"Book\", \"price\": 25, \"category\": \"Books\"},\n",
    "    {\"name\": \"Tablet\", \"price\": 300, \"category\": \"Electronics\"},\n",
    "    {\"name\": \"Fiction\", \"price\": 15, \"category\": \"Books\"},\n",
    "]\n",
    "grouped_products = group_by_category(products)\n",
    "print(grouped_products)\n",
    "# Expected output: {'Electronics': ['Laptop', 'Tablet'], 'Books': ['Book', 'Fiction']}\n",
    "\n",
    "```\n"
   ]
  },
  {
   "cell_type": "code",
   "execution_count": 511,
   "id": "12187b4a-4e65-4cc8-bf6b-5ff7fdd8bb5a",
   "metadata": {},
   "outputs": [
    {
     "name": "stdout",
     "output_type": "stream",
     "text": [
      "{'Electronics': ['Laptop', 'Tablet'], 'Books': ['Book', 'Fiction']}\n"
     ]
    }
   ],
   "source": [
    "def group_by_category(products):\n",
    "    # Initialize an empty dictionary to group by category\n",
    "    grouped = {}\n",
    "\n",
    "    for product in products:\n",
    "        category = product['category']  # Get the product category\n",
    "        name = product['name']          # Get the product name\n",
    "\n",
    "        if category not in grouped:\n",
    "            # If category doesn't exist, start a new list\n",
    "            grouped[category] = [name]\n",
    "        else:\n",
    "            # If category exists, append the name to the list\n",
    "            grouped[category].append(name)\n",
    "\n",
    "    return grouped\n",
    "\n",
    "# Example product list\n",
    "products = [\n",
    "    {\"name\": \"Laptop\", \"price\": 1200, \"category\": \"Electronics\"},\n",
    "    {\"name\": \"Book\", \"price\": 25, \"category\": \"Books\"},\n",
    "    {\"name\": \"Tablet\", \"price\": 300, \"category\": \"Electronics\"},\n",
    "    {\"name\": \"Fiction\", \"price\": 15, \"category\": \"Books\"},\n",
    "]\n",
    "\n",
    "# Call the function and print result\n",
    "grouped_products = group_by_category(products)\n",
    "print(grouped_products)\n"
   ]
  },
  {
   "cell_type": "markdown",
   "id": "af52c3db-7673-4776-9a9a-0112ea221827",
   "metadata": {},
   "source": [
    "#### Question-9 (Pending)\n",
    "\n",
    "Write a Python program that prints the first `n` rows of Pascal's triangle. `n` is a positive integer and an user input. To know about Pascal's triangle see the [wikipedia article](https://en.wikipedia.org/wiki/Pascal%27s_triangle): \n",
    "\n",
    "Example:\n",
    "\n",
    "```python\n",
    "n = 5\n",
    "# Expected output:\n",
    "#     1\n",
    "#    1 1\n",
    "#   1 2 1\n",
    "#  1 3 3 1\n",
    "# 1 4 6 4 1\n",
    "```"
   ]
  },
  {
   "cell_type": "code",
   "execution_count": 390,
   "id": "0d8d9fe0-65bb-4777-b487-92fa216ce2ef",
   "metadata": {},
   "outputs": [],
   "source": [
    "# Write your code here\n",
    "\n"
   ]
  },
  {
   "cell_type": "markdown",
   "id": "51492f62-3388-4956-b081-fa1193f6c9ae",
   "metadata": {},
   "source": [
    "#### Question-10\n",
    "\n",
    "Write a function `reverse_the_words(s)` which will take a string `s` as input and reverses the words in the string. \n",
    "\n",
    "Example:\n",
    "\n",
    "```python\n",
    "s = \"Python is awesome and challenging\"\n",
    "r = reverse_the_words(s)\n",
    "print(r)\n",
    "# Expected output: challenging and awesome is Python\n",
    "```"
   ]
  },
  {
   "cell_type": "code",
   "execution_count": 527,
   "id": "ed35a4f8-c830-4bf5-b90c-52abda223b89",
   "metadata": {},
   "outputs": [
    {
     "name": "stdout",
     "output_type": "stream",
     "text": [
      "challenging and awesome is Python\n"
     ]
    }
   ],
   "source": [
    "def reverse_the_words(s):\n",
    "    # Create an empty list to store reversed words\n",
    "    r_split = []\n",
    "\n",
    "    # Iterate through each word in the sentence\n",
    "    for word in s.split():\n",
    "        # Insert each word at the beginning of the list to reverse the order\n",
    "        r_split.insert(0, word)\n",
    "\n",
    "    # Join the reversed list into a string and return it\n",
    "    return \" \".join(r_split)\n",
    "\n",
    "# Example usage\n",
    "s = \"Python is awesome and challenging\"\n",
    "r = reverse_the_words(s)\n",
    "print(r)  # Expected output: challenging and awesome is Python\n"
   ]
  },
  {
   "cell_type": "markdown",
   "id": "c8f38103-609a-43f1-869c-a08294ca9295",
   "metadata": {},
   "source": [
    "#### Bonus question\n",
    "\n",
    "Write a function `word_counter(s)` which will take a string `s` as input and returns a dictionary with count of words (case insensitive). Remove all the punctuations and special symbols present in the string.  \n",
    "\n",
    "Example:\n",
    "```python\n",
    "s = \"This city is a beautiful city. This is where I live\"\n",
    "d = word_counter(s)\n",
    "\n",
    "# Expected output (output can be in any order): {\"this\": 2, \"city\": 2, \"is\": 2, \"a\": 1, \"beautiful\": 1, \"where\": 1, \"i\": 1, \"live\": 1}\n",
    "```"
   ]
  },
  {
   "cell_type": "code",
   "execution_count": 533,
   "id": "27a52800-d732-4b3c-8855-f434414e391d",
   "metadata": {},
   "outputs": [
    {
     "name": "stdout",
     "output_type": "stream",
     "text": [
      "{'this': 2, 'city': 2, 'is': 2, 'a': 1, 'beautiful': 1, 'where': 1, 'i': 1, 'live': 1}\n"
     ]
    }
   ],
   "source": [
    "def word_counter(s):\n",
    "    \"\"\"\n",
    "    Counts the frequency of each word in a string (case-insensitive), ignoring punctuation.\n",
    "\n",
    "    Logic:\n",
    "    1. Remove all punctuation and special characters from the string using replace.\n",
    "    2. Convert the string to lowercase for case-insensitive comparison.\n",
    "    3. Split the cleaned string into a list of words.\n",
    "    4. Iterate through the word list and count each word using list.count().\n",
    "    5. Store each word as a key and its count as the corresponding value in a dictionary.\n",
    "\n",
    "    Parameters:\n",
    "        s (str): Input string to process.\n",
    "\n",
    "    Returns:\n",
    "        dict: A dictionary with words as keys and their respective counts as values.\n",
    "    \"\"\"\n",
    "    import string\n",
    "\n",
    "    # Remove punctuation and convert to lowercase\n",
    "    for punc in string.punctuation:\n",
    "        s = s.replace(punc, \"\")\n",
    "    s = s.lower()\n",
    "\n",
    "    # Split into words\n",
    "    s_split = s.split()\n",
    "\n",
    "    # Count words using list.count()\n",
    "    w_count = {}\n",
    "    for word in s_split:\n",
    "        w_count[word] = s_split.count(word)\n",
    "\n",
    "    return w_count\n",
    "\n",
    "# Example usage\n",
    "s = \"This city is a beautiful city. This is where I live.\"\n",
    "d = word_counter(s)\n",
    "print(d)\n"
   ]
  },
  {
   "cell_type": "code",
   "execution_count": null,
   "id": "6645ba21-2985-431b-8bf6-133d77a67b70",
   "metadata": {},
   "outputs": [],
   "source": []
  }
 ],
 "metadata": {
  "kernelspec": {
   "display_name": "Python 3 (ipykernel)",
   "language": "python",
   "name": "python3"
  },
  "language_info": {
   "codemirror_mode": {
    "name": "ipython",
    "version": 3
   },
   "file_extension": ".py",
   "mimetype": "text/x-python",
   "name": "python",
   "nbconvert_exporter": "python",
   "pygments_lexer": "ipython3",
   "version": "3.12.4"
  }
 },
 "nbformat": 4,
 "nbformat_minor": 5
}
