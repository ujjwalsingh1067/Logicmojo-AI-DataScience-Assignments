{
 "cells": [
  {
   "cell_type": "markdown",
   "id": "2535e4db",
   "metadata": {},
   "source": [
    "# Assignment-4\n",
    "\n",
    "This notebook contains the coding questions to test the proficiency in `Object Oriented Programming` in python.\n",
    "\n",
    "### Date: 16th May, 2025\n",
    "\n",
    "### Steps to solve and upload the assignment \n",
    "\n",
    "- Download the notebook in your local machine.\n",
    "- Solve the questions in the notebook and save it.\n",
    "- Rename the file as `Assignment-04-<your_name>_<your_surname>.ipynb`. For example if your name is Dipika Chopra then name the file as `Assignment-04-Dipika_Chopra.ipynb`.\n",
    "- Upload the solved notebook in the google drive location: https://drive.google.com/drive/folders/14z3q91F8xzPb8Hm-KxNGn-nkKacqB17v?usp=drive_link\n",
    "<h3><span style=\"color:red\"> Deadline: 31st May, 2025 </span></h3>"
   ]
  },
  {
   "cell_type": "markdown",
   "id": "a9701d5d",
   "metadata": {},
   "source": [
    "## Problem-1\n",
    "\n",
    "Design a system for a library. Include classes for `Book`, `Patron`, and `Library`.\n",
    "\n",
    "- The `Book` class should have attributes for title, author, ISBN, and a method `is_available()` that returns `True` if the book is not currently checked out and `False` otherwise. It should also have a method `check_out()` that marks the book as checked out and a method `check_in()` that marks it as available.\n",
    "- The `Patron` class should have attributes for name and patron ID and a method `borrow_book(book)` that associates a book with the patron.\n",
    "- The `Library` class should have a collection of `Book` objects and `Patron` objects. It should have methods to `add_book(book)`, `add_patron(patron)`, `lend_book(book, patron)`, and `return_book(book)`. The `lend_book` method should only allow a book to be lent if it's available and the patron exists in the library.\n",
    "\n",
    "\n",
    "Test your implementation."
   ]
  },
  {
   "cell_type": "code",
   "execution_count": 97,
   "id": "c15b4d14",
   "metadata": {},
   "outputs": [],
   "source": [
    "# Class definitions\n",
    "class Book:\n",
    "    def __init__(self, title, author, ISBN):\n",
    "        self.title = title\n",
    "        self.author = author\n",
    "        self.ISBN = ISBN\n",
    "        self.available = True  # Tracks availability\n",
    "\n",
    "    def check_out(self):\n",
    "        # Mark the book as unavailable\n",
    "        self.available = False\n",
    "\n",
    "    def check_in(self):\n",
    "        # Mark the book as available\n",
    "        self.available = True\n",
    "\n",
    "\n",
    "class Patron:\n",
    "    def __init__(self, name, patron_id):\n",
    "        self.name = name\n",
    "        self.patron_id = patron_id\n",
    "        self.borrowed_books = []\n",
    "\n",
    "    def borrow_book(self, book):\n",
    "        # Add the book to the patron's borrowed list\n",
    "        self.borrowed_books.append(book)\n",
    "\n",
    "    def return_book(self, book):\n",
    "        # Remove the book from the patron's borrowed list, if present\n",
    "        if book in self.borrowed_books:\n",
    "            self.borrowed_books.remove(book)\n",
    "\n",
    "\n",
    "class Library:\n",
    "    def __init__(self):\n",
    "        self.books = []\n",
    "        self.patrons = []\n",
    "\n",
    "    def add_book(self, book):\n",
    "        self.books.append(book)\n",
    "\n",
    "    def add_patron(self, patron):\n",
    "        self.patrons.append(patron)\n",
    "\n",
    "    def lend_book(self, book, patron):\n",
    "        # Check if the book is available and the patron exists in the library\n",
    "        if book.available and patron in self.patrons:\n",
    "            book.check_out()\n",
    "            patron.borrow_book(book)\n",
    "        else:\n",
    "            print(\"Cannot lend the book: either it's unavailable or the patron is not registered.\")\n",
    "\n",
    "    def return_book(self, book, patron):\n",
    "        # Check if the book is currently checked out\n",
    "        if not book.available:\n",
    "            book.check_in()  # Mark the book as available\n",
    "            patron.return_book(book)  # Remove the book from the patron's borrowed list\n",
    "        else:\n",
    "            print(\"Book is already available. Nothing to return.\")"
   ]
  },
  {
   "cell_type": "code",
   "execution_count": 98,
   "id": "1f139c8f",
   "metadata": {},
   "outputs": [],
   "source": [
    "\n",
    "# Create books\n",
    "b1 = Book(title=\"The Silent Patient\", author=\"Alex Michaelides\", ISBN=\"9781250301697\")\n",
    "b2 = Book(title=\"Atomic Habits\", author=\"James Clear\", ISBN=\"9780735211292\")\n",
    "\n",
    "# Create patrons\n",
    "p1 = Patron(name=\"Alice Johnson\", patron_id=\"P1001\")\n",
    "p2 = Patron(name=\"Bob Smith\", patron_id=\"P1002\")\n",
    "\n",
    "# Create a library and add books/patrons\n",
    "lib = Library()\n",
    "lib.add_book(b1)\n",
    "lib.add_book(b2)\n",
    "lib.add_patron(p1)\n",
    "lib.add_patron(p2)"
   ]
  },
  {
   "cell_type": "code",
   "execution_count": 130,
   "id": "84f4413e",
   "metadata": {},
   "outputs": [
    {
     "data": {
      "text/plain": [
       "[<__main__.Book at 0x10757dca0>]"
      ]
     },
     "execution_count": 130,
     "metadata": {},
     "output_type": "execute_result"
    }
   ],
   "source": [
    "p2.borrowed_books"
   ]
  },
  {
   "cell_type": "code",
   "execution_count": 135,
   "id": "0aaccb8c",
   "metadata": {},
   "outputs": [],
   "source": [
    "lib.lend_book(b1, p1)"
   ]
  },
  {
   "cell_type": "code",
   "execution_count": 136,
   "id": "dbdb9bcf",
   "metadata": {},
   "outputs": [
    {
     "name": "stdout",
     "output_type": "stream",
     "text": [
      "Atomic Habits is currently borrowed by Alice Johnson\n",
      "The Silent Patient is currently borrowed by Alice Johnson\n"
     ]
    }
   ],
   "source": [
    "# Test\n",
    "for book in p1.borrowed_books:\n",
    "    print(f\"{book.title} is currently borrowed by {p1.name}\")"
   ]
  },
  {
   "cell_type": "code",
   "execution_count": 119,
   "id": "ea7fddae",
   "metadata": {},
   "outputs": [],
   "source": [
    "lib.return_book(b1, p1)"
   ]
  },
  {
   "cell_type": "code",
   "execution_count": 114,
   "id": "ee48db54",
   "metadata": {},
   "outputs": [],
   "source": [
    "lib.lend_book(b2, p2)"
   ]
  },
  {
   "cell_type": "code",
   "execution_count": 132,
   "id": "159aeda0",
   "metadata": {},
   "outputs": [
    {
     "name": "stdout",
     "output_type": "stream",
     "text": [
      "The Silent Patient is currently borrowed by Bob Smith\n"
     ]
    }
   ],
   "source": [
    "# Test\n",
    "for book in p2.borrowed_books:\n",
    "    print(f\"{book.title} is currently borrowed by {p2.name}\")"
   ]
  },
  {
   "cell_type": "code",
   "execution_count": 131,
   "id": "123b4490",
   "metadata": {},
   "outputs": [
    {
     "name": "stdout",
     "output_type": "stream",
     "text": [
      "Book is already available. Nothing to return.\n"
     ]
    }
   ],
   "source": [
    "lib.return_book(b1, p2)"
   ]
  },
  {
   "cell_type": "code",
   "execution_count": 129,
   "id": "204e42e2",
   "metadata": {},
   "outputs": [
    {
     "data": {
      "text/plain": [
       "True"
      ]
     },
     "execution_count": 129,
     "metadata": {},
     "output_type": "execute_result"
    }
   ],
   "source": [
    "b2.available"
   ]
  },
  {
   "cell_type": "markdown",
   "id": "f84ceae2",
   "metadata": {},
   "source": [
    "## Problem-2\n",
    "\n",
    "Create an base class `Shape` with an method `area()` and another method `perimeter()`. Then, create classes `Rectangle` and `Circle` that inherit from `Shape` and implement the `area()` method. The `perimeter()` method in `Shape` should raise a `NotImplementedError`. Implement the `perimeter()` method in `Rectangle` and `Circle`.\n",
    "\n",
    "Test your implementation."
   ]
  },
  {
   "cell_type": "code",
   "execution_count": 185,
   "id": "2a90ed8b",
   "metadata": {},
   "outputs": [],
   "source": [
    "import math\n",
    "\n",
    "class Shape():\n",
    "    def __init__(self, name):\n",
    "        self.name = name\n",
    "\n",
    "    def area(self):\n",
    "        raise NotImplementedError(\"Subclasses must implement area()\")\n",
    "\n",
    "    def perimeter(self):\n",
    "        raise NotImplementedError(\"Subclasses must implement perimeter()\")\n",
    "\n",
    "# Child class\n",
    "class Rectangle(Shape):\n",
    "    def __init__(self, length, breadth):\n",
    "        super().__init__(\"Rectangle\")\n",
    "        self.length = length\n",
    "        self.breadth = breadth\n",
    "\n",
    "    def area(self):\n",
    "        return self.length * self.breadth\n",
    "\n",
    "    def perimeter(self):\n",
    "        return 2 * (self.length + self.breadth)\n",
    "\n",
    "# Child class\n",
    "class Circle(Shape):\n",
    "    def __init__(self, radius):\n",
    "        super().__init__(\"Circle\")\n",
    "        self.radius = radius\n",
    "\n",
    "    def area(self):\n",
    "        return math.pi * self.radius ** 2\n",
    "\n",
    "    def perimeter(self):\n",
    "        return 2 * math.pi * self.radius"
   ]
  },
  {
   "cell_type": "code",
   "execution_count": 186,
   "id": "17a6824d",
   "metadata": {},
   "outputs": [
    {
     "name": "stdout",
     "output_type": "stream",
     "text": [
      "Rectangle Area: 50\n",
      "Rectangle Perimeter: 30\n",
      "Circle Area: 153.93804002589985\n",
      "Circle Perimeter: 43.982297150257104\n"
     ]
    }
   ],
   "source": [
    "r1 = Rectangle(10, 5)\n",
    "print(\"Rectangle Area:\", r1.area())\n",
    "print(\"Rectangle Perimeter:\", r1.perimeter())\n",
    "\n",
    "c1 = Circle(7)\n",
    "print(\"Circle Area:\", c1.area())\n",
    "print(\"Circle Perimeter:\", c1.perimeter())"
   ]
  },
  {
   "cell_type": "code",
   "execution_count": 188,
   "id": "5b45e54a",
   "metadata": {},
   "outputs": [
    {
     "name": "stdout",
     "output_type": "stream",
     "text": [
      "Rectangle:\n",
      "  Area = 50.00\n",
      "  Perimeter = 30.00\n",
      "Circle:\n",
      "  Area = 153.94\n",
      "  Perimeter = 43.98\n"
     ]
    }
   ],
   "source": [
    "# show polymorphism\n",
    "r1 = Rectangle(10, 5)\n",
    "c1 = Circle(7)\n",
    "\n",
    "shapes = [r1, c1]\n",
    "\n",
    "for shape in shapes:\n",
    "    print(f\"{shape.name}:\")\n",
    "    print(f\"  Area = {shape.area():.2f}\")\n",
    "    print(f\"  Perimeter = {shape.perimeter():.2f}\")"
   ]
  },
  {
   "cell_type": "markdown",
   "id": "1d1687b0",
   "metadata": {},
   "source": [
    "## Problem-3\n",
    "\n",
    "Design a system to model different types of employees in a company. There should be a base `Employee` class with attributes for `name` and `employee_id`. Create two subclasses: `SalariedEmployee` with an attribute for `monthly_salary` and a method `calculate_paycheck()` that returns the monthly salary, and `HourlyEmployee` with attributes for `hourly_rate` and `hours_worked`, and a `calculate_paycheck()` method that returns the total pay for the week. Demonstrate creating instances of both employee types and calling their `calculate_paycheck()` methods.\n",
    "\n",
    "Test your implementation."
   ]
  },
  {
   "cell_type": "code",
   "execution_count": 200,
   "id": "00ad7a49",
   "metadata": {},
   "outputs": [],
   "source": [
    "class Employee():\n",
    "    def __init__(self, name, employee_id):\n",
    "        self.name = name\n",
    "        self.employee_id = employee_id\n",
    "    \n",
    "class SalariedEmployee(Employee):\n",
    "    def __init__(self, name, employee_id, monthly_salary):\n",
    "        super().__init__(name, employee_id)\n",
    "        self.monthly_salary = monthly_salary\n",
    "\n",
    "    def calculate_paycheck(self):\n",
    "        return self.monthly_salary\n",
    "\n",
    "class HourlyEmployee(Employee):\n",
    "    def __init__(self, name, employee_id, hourly_rate, hours_worked):\n",
    "        super().__init__(name, employee_id)\n",
    "        self.hourly_rate = hourly_rate\n",
    "        self.hours_worked = hours_worked\n",
    "\n",
    "    def calculate_paycheck(self):\n",
    "        return self.hourly_rate * self.hours_worked"
   ]
  },
  {
   "cell_type": "code",
   "execution_count": 202,
   "id": "2fb7f1ca",
   "metadata": {},
   "outputs": [
    {
     "name": "stdout",
     "output_type": "stream",
     "text": [
      "Alice's paycheck: $5000\n",
      "Bob's paycheck: $800\n"
     ]
    }
   ],
   "source": [
    "se = SalariedEmployee(\"Alice\", \"E1001\", 5000)\n",
    "he = HourlyEmployee(\"Bob\", \"E1002\", hourly_rate=20, hours_worked=40)\n",
    "\n",
    "print(f\"{se.name}'s paycheck: ${se.calculate_paycheck()}\")\n",
    "print(f\"{he.name}'s paycheck: ${he.calculate_paycheck()}\")"
   ]
  },
  {
   "cell_type": "code",
   "execution_count": 205,
   "id": "6c49de27",
   "metadata": {},
   "outputs": [
    {
     "name": "stdout",
     "output_type": "stream",
     "text": [
      "Alice:\n",
      "  Paycheck = 5000.00\n",
      "Bob:\n",
      "  Paycheck = 800.00\n"
     ]
    }
   ],
   "source": [
    "employees = [se, he]\n",
    "\n",
    "for emp in employees:\n",
    "    print(f\"{emp.name}:\")\n",
    "    print(f\"  Paycheck = {emp.calculate_paycheck():.2f}\")\n",
    "\n",
    "#Polymorphism:\n",
    "# emp can be either a SalariedEmployee or HourlyEmployee\n",
    "# we don’t care which one it is\n",
    "# we just call calculate_paycheck(), and Python automatically uses the right version (method overriding in action!)"
   ]
  },
  {
   "cell_type": "markdown",
   "id": "694b2ead",
   "metadata": {},
   "source": [
    "## Problem-4\n",
    "\n",
    "Design a class `polynomial` of one variable which will have attributes `degree`, a positive integer and `coefficients`, a list of floating point numbers. \n",
    "`degree` means the highest power of the variable and `coefficients` are the coefficient of individual terms.\n",
    "\n",
    "A polynomial of degree `n` has `n+1` coefficients. \n",
    "\n",
    "- Example-1:\n",
    "$$ 3x^4 + 5x^3 + x^2 + 9x + 10 $$\n",
    "This is a polynomial of degree 4 and coefficients are [3, 5, 1, 9, 10].\n",
    "\n",
    "- Example-2: (some coefficients could be zero)\n",
    "$$ 0.7x^3 + 2.5x $$\n",
    "Here the degree of polynomial is 3 and coefficients are [0.7, 0, 2.5, 0].\n",
    "\n",
    "A polynomial of degree zero is just a constant value. \n",
    "\n",
    "In the `polynomial` class, you need to implement the following methods:\n",
    "- `evaluate(x)` which will evaluate the polynomial for a given value of the variable x.\n",
    "- `plot([x1, x2])` this will plot the polynomial for a given range of x1 to x2 of the variable.\n",
    "- `derivative(x)` This will evaluate the derivative (differentiation) of the polynomial for a given value of the variable x.\n",
    "- `plot_derivative([x1, x2])` this will plot the derivative of the polynomial for a given range of x1 to x2 of the variable.\n",
    "\n",
    "The class should have basic checks, such that the number of coefficients provided by the user should be degree + 1 and the degree should be a positive integer. \n",
    "\n",
    "Test your implementation. "
   ]
  },
  {
   "cell_type": "code",
   "execution_count": 85,
   "id": "3eeb9436",
   "metadata": {},
   "outputs": [
    {
     "name": "stdout",
     "output_type": "stream",
     "text": [
      "Evaluate at x = 2: 26\n",
      "Derivative at x = 3: 42\n"
     ]
    },
    {
     "data": {
      "image/png": "[encoded data removed]",
      "text/plain": [
       "<Figure size 600x300 with 1 Axes>"
      ]
     },
     "metadata": {},
     "output_type": "display_data"
    },
    {
     "data": {
      "image/png": "[encoded data removed]",
      "text/plain": [
       "<Figure size 600x300 with 1 Axes>"
      ]
     },
     "metadata": {},
     "output_type": "display_data"
    }
   ],
   "source": [
    "import numpy as np\n",
    "import matplotlib.pyplot as plt\n",
    "\n",
    "class Polynomial:\n",
    "    def __init__(self, deg, coef=None):\n",
    "        if coef is None:\n",
    "            coef = []\n",
    "\n",
    "        if deg >= 0:\n",
    "            self.deg = deg\n",
    "        else:\n",
    "            raise ValueError(\"Please enter a valid positive integer for degree.\")\n",
    "\n",
    "        if len(coef) == deg + 1:\n",
    "            self.coef = coef\n",
    "        else:\n",
    "            raise ValueError(\"Number of coefficients must be degree + 1.\")\n",
    "\n",
    "    def evaluate(self, x):\n",
    "        result = 0\n",
    "        for i, coefficient in enumerate(reversed(self.coef)):\n",
    "            result += coefficient * (x ** i)\n",
    "        return result\n",
    "\n",
    "    def plot(self, x1, x2):\n",
    "        fig, ax = plt.subplots(figsize=(6, 3))\n",
    "        x = np.arange(x1, x2, 0.1)\n",
    "        fx = [self.evaluate(val) for val in x]\n",
    "        ax.plot(x, fx)\n",
    "        ax.set_title(\"Polynomial Plot\")\n",
    "        ax.set_xlabel(\"x\")\n",
    "        ax.set_ylabel(\"f(x)\")\n",
    "        plt.grid(True)\n",
    "        plt.show()\n",
    "\n",
    "    def derivative(self, x):\n",
    "        diff = 0\n",
    "        for i, coef in enumerate(reversed(self.coef)):\n",
    "            if i > 0:\n",
    "                diff += coef * i * (x ** (i - 1))\n",
    "        return diff\n",
    "\n",
    "    def plot_derivative(self, x1, x2):\n",
    "        fig, ax = plt.subplots(figsize=(6, 3))\n",
    "        x = np.arange(x1, x2, 0.1)\n",
    "        fx_d = [self.derivative(val) for val in x]\n",
    "        ax.plot(x, fx_d)\n",
    "        ax.set_title(\"Derivative of Polynomial Plot\")\n",
    "        ax.set_xlabel(\"x\")\n",
    "        ax.set_ylabel(\"f'(x)\")\n",
    "        plt.grid(True)\n",
    "        plt.show()\n",
    "\n",
    "# Example usage\n",
    "if __name__ == \"__main__\":\n",
    "    p1 = Polynomial(3, [1, 2, 3, 4])  # Represents 1x^3 + 2x^2 + 3x + 4\n",
    "    print(\"Evaluate at x = 2:\", p1.evaluate(2))\n",
    "    print(\"Derivative at x = 3:\", p1.derivative(3))\n",
    "    p1.plot(0, 5)\n",
    "    p1.plot_derivative(0, 5)"
   ]
  },
  {
   "cell_type": "markdown",
   "id": "641b4303",
   "metadata": {},
   "source": [
    "## Problem-5\n",
    "\n",
    "Design a system to model a simple online shopping cart. Create a class `Product` with attributes for `name` and `price`. Then, create a `ShoppingCart` class that has a list to store `Product` objects. Implement methods to `add_item(product)`, `remove_item(product_name)`, and `calculate_total()`."
   ]
  },
  {
   "cell_type": "code",
   "execution_count": 150,
   "id": "899c1aa4",
   "metadata": {},
   "outputs": [],
   "source": [
    "class Product:\n",
    "    def __init__(self, name, price):\n",
    "        self.name = name \n",
    "        self.price = price\n",
    "\n",
    "class ShoppingCart:\n",
    "    def __init__(self):\n",
    "        # list to store product objects\n",
    "        self.items = []\n",
    "\n",
    "    def add_item(self, product):\n",
    "        self.items.append(product)\n",
    "\n",
    "    def remove_item(self, product_name):\n",
    "        # Loop to find the product by name\n",
    "        for product in self.items:\n",
    "            if product.name == product_name:\n",
    "                self.items.remove(product)\n",
    "                return\n",
    "        print(\"Product isn't found in the cart\")\n",
    "\n",
    "    def calculate_total(self):\n",
    "        total = 0\n",
    "        for product in self.items:\n",
    "            total += product.price\n",
    "        return total\n",
    "    \n",
    "    # list all the products in the shopping cart\n",
    "    def list_items(self):\n",
    "        if not self.items:\n",
    "            print(\"Your cart is empty.\")\n",
    "        else:\n",
    "            print(\"Items in your cart:\")\n",
    "            for product in self.items:\n",
    "                print(f\"- {product.name}: ${product.price:.2f}\")\n"
   ]
  },
  {
   "cell_type": "code",
   "execution_count": 159,
   "id": "5a1d70a3",
   "metadata": {},
   "outputs": [
    {
     "name": "stdout",
     "output_type": "stream",
     "text": [
      "Total: 31.67\n",
      "Total after removal: 18.68\n"
     ]
    }
   ],
   "source": [
    "p1 = Product(\"Book\", 12.99)\n",
    "p2 = Product(\"Pen\", 2.49)\n",
    "p3 = Product(\"Disk\", 16.19)\n",
    "\n",
    "cart = ShoppingCart()\n",
    "cart.add_item(p1)\n",
    "cart.add_item(p2)\n",
    "cart.add_item(p3)\n",
    "\n",
    "print(\"Total:\", cart.calculate_total())  \n",
    "\n",
    "cart.remove_item(\"Book\")\n",
    "print(\"Total after removal:\", cart.calculate_total())  \n",
    "\n",
    "# cart.remove_item(\"Pen\")\n",
    "# print(\"Total after removal:\", cart.calculate_total())  "
   ]
  },
  {
   "cell_type": "markdown",
   "id": "abdb3af5",
   "metadata": {},
   "source": []
  },
  {
   "cell_type": "code",
   "execution_count": 160,
   "id": "44ee99e4",
   "metadata": {},
   "outputs": [
    {
     "name": "stdout",
     "output_type": "stream",
     "text": [
      "Items in your cart:\n",
      "- Pen: $2.49\n",
      "- Disk: $16.19\n"
     ]
    }
   ],
   "source": [
    "cart.list_items()"
   ]
  },
  {
   "cell_type": "code",
   "execution_count": null,
   "id": "0ad062b3",
   "metadata": {},
   "outputs": [],
   "source": []
  }
 ],
 "metadata": {
  "kernelspec": {
   "display_name": "data_science_vm",
   "language": "python",
   "name": "python3"
  },
  "language_info": {
   "codemirror_mode": {
    "name": "ipython",
    "version": 3
   },
   "file_extension": ".py",
   "mimetype": "text/x-python",
   "name": "python",
   "nbconvert_exporter": "python",
   "pygments_lexer": "ipython3",
   "version": "3.12.4"
  }
 },
 "nbformat": 4,
 "nbformat_minor": 5
}
