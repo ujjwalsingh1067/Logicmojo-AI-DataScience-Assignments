{
 "cells": [
  {
   "cell_type": "markdown",
   "id": "dc07db6a",
   "metadata": {},
   "source": [
    "# Assignment-2\n",
    "\n",
    "This notebook contains the coding questions to test the proficiency in `NumPy` library of python.\n",
    "\n",
    "### Date: 4th May, 2025\n",
    "\n",
    "### Steps to solve and upload the assignment \n",
    "\n",
    "- Download the notebook in your local machine.\n",
    "- Solve the questions in the notebook and save it.\n",
    "- Rename the file as `Assignment-02-<your_name>_<your_surname>.ipynb`. For example if your name is Dipika Chopra then name the file as `Assignment-02-Dipika_Chopra.ipynb`.\n",
    "- Upload the solved notebook in the google drive location: https://drive.google.com/drive/folders/1oeXRThJXEUmx6Z2CGaksZuxN8QsIF7QD?usp=sharing\n",
    "\n",
    "<h3><span style=\"color:red\"> Deadline: 20th May, 2025 </span></h3>"
   ]
  },
  {
   "cell_type": "code",
   "execution_count": 5,
   "id": "d3038cca",
   "metadata": {},
   "outputs": [],
   "source": [
    "import numpy as np"
   ]
  },
  {
   "cell_type": "markdown",
   "id": "f4613f42",
   "metadata": {},
   "source": [
    "## Problem: 1\n",
    "Create a uniform subdivision of the interval -1.3 to 2.5 with 64 subdivisions."
   ]
  },
  {
   "cell_type": "code",
   "execution_count": 9,
   "id": "d9608c50",
   "metadata": {},
   "outputs": [
    {
     "data": {
      "text/plain": [
       "array([-1.3       , -1.23968254, -1.17936508, -1.11904762, -1.05873016,\n",
       "       -0.9984127 , -0.93809524, -0.87777778, -0.81746032, -0.75714286,\n",
       "       -0.6968254 , -0.63650794, -0.57619048, -0.51587302, -0.45555556,\n",
       "       -0.3952381 , -0.33492063, -0.27460317, -0.21428571, -0.15396825,\n",
       "       -0.09365079, -0.03333333,  0.02698413,  0.08730159,  0.14761905,\n",
       "        0.20793651,  0.26825397,  0.32857143,  0.38888889,  0.44920635,\n",
       "        0.50952381,  0.56984127,  0.63015873,  0.69047619,  0.75079365,\n",
       "        0.81111111,  0.87142857,  0.93174603,  0.99206349,  1.05238095,\n",
       "        1.11269841,  1.17301587,  1.23333333,  1.29365079,  1.35396825,\n",
       "        1.41428571,  1.47460317,  1.53492063,  1.5952381 ,  1.65555556,\n",
       "        1.71587302,  1.77619048,  1.83650794,  1.8968254 ,  1.95714286,\n",
       "        2.01746032,  2.07777778,  2.13809524,  2.1984127 ,  2.25873016,\n",
       "        2.31904762,  2.37936508,  2.43968254,  2.5       ])"
      ]
     },
     "execution_count": 9,
     "metadata": {},
     "output_type": "execute_result"
    }
   ],
   "source": [
    "# Write your code here\n",
    "\n",
    "np.linspace(start=-1.3, stop=2.5, num=64)"
   ]
  },
  {
   "cell_type": "markdown",
   "id": "592a81a1",
   "metadata": {},
   "source": [
    "## Problem: 2\n",
    "\n",
    "Generate an array of length $3n$ , filled with the cyclic pattern 1, 2, 3. Where $n$ is a natural number."
   ]
  },
  {
   "cell_type": "code",
   "execution_count": 151,
   "id": "39841996-beb3-4c83-be34-8e11ff2d0393",
   "metadata": {},
   "outputs": [
    {
     "name": "stdout",
     "output_type": "stream",
     "text": [
      "arr : \n",
      " [1 2 3]\n"
     ]
    },
    {
     "name": "stdin",
     "output_type": "stream",
     "text": [
      "input the length n 2\n"
     ]
    },
    {
     "name": "stdout",
     "output_type": "stream",
     "text": [
      "\n",
      "cyclic arr : \n",
      " [1 2 3 1 2 3 1 2 3 1 2 3 1 2 3 1 2 3]\n"
     ]
    }
   ],
   "source": [
    "# create an array = [1,2,3] using arange\n",
    "arr = np.arange(1,4)\n",
    "print(\"arr : \\n\", arr)\n",
    "\n",
    "# input the length of n\n",
    "n = int(input(\"input the length n\"))\n",
    "\n",
    "# create a variable rep to repeat the pattern 3n times\n",
    "rep = 3*n\n",
    "# np.title repeats the array 3n times (row wise)\n",
    "print(\"\\ncyclic arr : \\n\", np.tile(arr, rep))"
   ]
  },
  {
   "cell_type": "markdown",
   "id": "4d2d5ac4",
   "metadata": {},
   "source": [
    "## Problem: 3\n",
    "Create an array of the first $n$ odd integers. $n$ is a natural number input from user."
   ]
  },
  {
   "cell_type": "code",
   "execution_count": 42,
   "id": "d9ad08b8",
   "metadata": {},
   "outputs": [
    {
     "name": "stdin",
     "output_type": "stream",
     "text": [
      "input the length n 5\n"
     ]
    },
    {
     "name": "stdout",
     "output_type": "stream",
     "text": [
      "[1 3 5 7 9]\n"
     ]
    }
   ],
   "source": [
    "# Write your code here\n",
    "\n",
    "n = int(input(\"input the length n\"))\n",
    "# assert error if n is <= 0\n",
    "assert n > 0, \"n is a natural number, enter a positive whole number (1, 2, 3, etc.)\" \n",
    "\n",
    "# Odd number is an AP, where the equation for the nth odd number is 2n - 1, where 'n' is a +ve integer\n",
    "odd = 2 * np.arange(1,n+1) - 1\n",
    "print(odd)"
   ]
  },
  {
   "cell_type": "markdown",
   "id": "b4db8108",
   "metadata": {},
   "source": [
    "### Problem: 4\n",
    "\n",
    "Create a 10 x 10 arrays of zeros and then \"frame\" it with a border of ones."
   ]
  },
  {
   "cell_type": "code",
   "execution_count": 85,
   "id": "43ebcbe6",
   "metadata": {},
   "outputs": [
    {
     "name": "stdout",
     "output_type": "stream",
     "text": [
      "[[1 1 1 1 1 1 1 1 1 1]\n",
      " [1 0 0 0 0 0 0 0 0 1]\n",
      " [1 0 0 0 0 0 0 0 0 1]\n",
      " [1 0 0 0 0 0 0 0 0 1]\n",
      " [1 0 0 0 0 0 0 0 0 1]\n",
      " [1 0 0 0 0 0 0 0 0 1]\n",
      " [1 0 0 0 0 0 0 0 0 1]\n",
      " [1 0 0 0 0 0 0 0 0 1]\n",
      " [1 0 0 0 0 0 0 0 0 1]\n",
      " [1 1 1 1 1 1 1 1 1 1]]\n"
     ]
    }
   ],
   "source": [
    "# Write your code here\n",
    "\n",
    "zero_array = np.zeros((10,10), dtype=int)\n",
    "\n",
    "# replace row = 0, 9 index as 1\n",
    "zero_array[0,:] = 1\n",
    "zero_array[9,:] = 1\n",
    "# replace col = 0, 9 index as 1\n",
    "zero_array[:,0] = 1\n",
    "zero_array[:,9] = 1\n",
    "\n",
    "print(zero_array)"
   ]
  },
  {
   "cell_type": "markdown",
   "id": "b7dfc64f",
   "metadata": {},
   "source": [
    "## Problem: 5\n",
    "\n",
    "Create an 8 x 8 array with a checkerboard pattern of zeros and ones."
   ]
  },
  {
   "cell_type": "code",
   "execution_count": 149,
   "id": "7b4014eb-f64e-44aa-8e69-77aa1ffa7b0b",
   "metadata": {},
   "outputs": [
    {
     "name": "stdout",
     "output_type": "stream",
     "text": [
      "arr : \n",
      " [[1 0]\n",
      " [0 1]]\n",
      "\n",
      "8 x 8 array with a checkerboard pattern of zeros and ones: \n",
      " [[1 0 1 0 1 0 1 0]\n",
      " [0 1 0 1 0 1 0 1]\n",
      " [1 0 1 0 1 0 1 0]\n",
      " [0 1 0 1 0 1 0 1]\n",
      " [1 0 1 0 1 0 1 0]\n",
      " [0 1 0 1 0 1 0 1]\n",
      " [1 0 1 0 1 0 1 0]\n",
      " [0 1 0 1 0 1 0 1]]\n",
      "\n",
      "arr Shape : \n",
      " (8, 8)\n"
     ]
    }
   ],
   "source": [
    "# Logic:\n",
    "# assuming white is 0 and black is 1\n",
    "# start with creating a 2x2 array [1,0],[0,1] or 2x2 identity array where diaognal is 1\n",
    "# repeat 4 times row-wise (axis = 0, vstack); can be done using np.tile\n",
    "# repeat the new array, 4 times col-wise (axis = 1, hstack); can be done using np.tile\n",
    "\n",
    "arr = np.eye(2, dtype=int)\n",
    "print(\"arr : \\n\", arr)\n",
    "\n",
    "a = 4 # row-wise repeat\n",
    "b = 4 # col-wise repeat\n",
    "rep = (a, b)\n",
    "print(\"\\n8 x 8 array with a checkerboard pattern of zeros and ones: \\n\", np.tile(arr, rep))\n",
    "print(\"\\narr Shape : \\n\", np.tile(arr, rep).shape)"
   ]
  },
  {
   "cell_type": "markdown",
   "id": "16836fba",
   "metadata": {},
   "source": [
    "## Problem: 6\n",
    "\n",
    "Create an array $x$ with 100 points in the interval $[-1,1]$ (the points must be uniformly spaced). Then create another array $y$. \n",
    "\n",
    "Where $y = x^2 sin(x^2) + x$. \n",
    "\n",
    "Try to plot $y$ vs $x$ using matplotlib."
   ]
  },
  {
   "cell_type": "code",
   "execution_count": 12,
   "id": "60163795",
   "metadata": {},
   "outputs": [
    {
     "data": {
      "text/plain": [
       "Text(0, 0.5, '$x^2 sin(x^2) + x$')"
      ]
     },
     "execution_count": 12,
     "metadata": {},
     "output_type": "execute_result"
    },
    {
     "data": {
      "image/png": "[encoded data removed]",
      "text/plain": [
       "<Figure size 1000x800 with 1 Axes>"
      ]
     },
     "metadata": {},
     "output_type": "display_data"
    }
   ],
   "source": [
    "import numpy as np\n",
    "import matplotlib.pyplot as plt  \n",
    "\n",
    "x = np.linspace(start=-2, stop=2, num=100)\n",
    "\n",
    "y = np.square(x)*np.sin(np.square(x))+x\n",
    "\n",
    "# plot y vs x\n",
    "plt.figure(figsize=(10,8))\n",
    "plt.plot(x,y,'r')\n",
    "plt.grid()\n",
    "plt.xlabel(r'$X$',fontsize=20)\n",
    "plt.ylabel(r'$x^2 sin(x^2) + x$',fontsize=20)"
   ]
  },
  {
   "cell_type": "markdown",
   "id": "38ce56fe",
   "metadata": {},
   "source": [
    "## Problem: 7 \n",
    "Create a function which creates an $n×n$ array with $(i , j)$ -entry equal to $i+ j$"
   ]
  },
  {
   "cell_type": "code",
   "execution_count": 21,
   "id": "dc6ca305-8360-4624-9213-6aca6e53ee7f",
   "metadata": {},
   "outputs": [
    {
     "data": {
      "text/plain": [
       "array([[0, 1, 2],\n",
       "       [1, 2, 3],\n",
       "       [2, 3, 4]])"
      ]
     },
     "execution_count": 21,
     "metadata": {},
     "output_type": "execute_result"
    }
   ],
   "source": [
    "def create_matrix(n):\n",
    "  m = np.arange(n)\n",
    "  mat = m.copy()\n",
    "  for i in range(1,n):\n",
    "    m += 1\n",
    "    mat = np.vstack((mat, m))\n",
    "    # if i == 8:\n",
    "    #     break\n",
    "  \n",
    "  return mat\n",
    "\n",
    "create_matrix(3)"
   ]
  },
  {
   "cell_type": "code",
   "execution_count": 14,
   "id": "9f8df5fc",
   "metadata": {},
   "outputs": [
    {
     "name": "stdin",
     "output_type": "stream",
     "text": [
      "input the length n: 10\n"
     ]
    },
    {
     "data": {
      "text/plain": [
       "array([[ 0,  1,  2,  3,  4,  5,  6,  7,  8,  9],\n",
       "       [ 1,  2,  3,  4,  5,  6,  7,  8,  9, 10],\n",
       "       [ 2,  3,  4,  5,  6,  7,  8,  9, 10, 11],\n",
       "       [ 3,  4,  5,  6,  7,  8,  9, 10, 11, 12],\n",
       "       [ 4,  5,  6,  7,  8,  9, 10, 11, 12, 13],\n",
       "       [ 5,  6,  7,  8,  9, 10, 11, 12, 13, 14],\n",
       "       [ 6,  7,  8,  9, 10, 11, 12, 13, 14, 15],\n",
       "       [ 7,  8,  9, 10, 11, 12, 13, 14, 15, 16],\n",
       "       [ 8,  9, 10, 11, 12, 13, 14, 15, 16, 17],\n",
       "       [ 9, 10, 11, 12, 13, 14, 15, 16, 17, 18]])"
      ]
     },
     "execution_count": 14,
     "metadata": {},
     "output_type": "execute_result"
    }
   ],
   "source": [
    "# Write your code here\n",
    "\n",
    "n = int(input(\"input the length n:\"))\n",
    "assert n > 0, \"n is a natural number, enter a positive whole number (1, 2, 3, etc.)\" \n",
    "\n",
    "# create a n x n array with 0\n",
    "arr = np.zeros((n, n), dtype=int)\n",
    "\n",
    "def array_nd(arr,n):\n",
    "    for i in range(0,n): #row index\n",
    "        for j in range(0,n): #col index\n",
    "            # replace the array(row,col) position with row+col value\n",
    "            arr[i,j] = i+j\n",
    "    return arr\n",
    "\n",
    "# call the function\n",
    "array_nd(arr,n)"
   ]
  },
  {
   "cell_type": "markdown",
   "id": "c7ef619d",
   "metadata": {},
   "source": [
    "# Problem: 8\n",
    "Evaluate $cos$ and $sin$ on the interval $[0,1]$  with 1000 points and then stack the results into a tall array with rows being the $(cos(x),sin(x))$ entries."
   ]
  },
  {
   "cell_type": "code",
   "execution_count": 30,
   "id": "268d11c0",
   "metadata": {},
   "outputs": [
    {
     "data": {
      "text/plain": [
       "array([[1.        , 0.        ],\n",
       "       [0.9999995 , 0.001001  ],\n",
       "       [0.999998  , 0.002002  ],\n",
       "       ...,\n",
       "       [0.54198585, 0.84038761],\n",
       "       [0.54114435, 0.84092972],\n",
       "       [0.54030231, 0.84147098]], shape=(1000, 2))"
      ]
     },
     "execution_count": 30,
     "metadata": {},
     "output_type": "execute_result"
    }
   ],
   "source": [
    "# Write your code here\n",
    "\n",
    "x = np.linspace(start=0, stop=1, num=1000)\n",
    "a = np.cos(x).reshape(-1,1)\n",
    "b = np.sin(x).reshape(-1,1)\n",
    "np.hstack([a,b])\n",
    "# b"
   ]
  },
  {
   "cell_type": "markdown",
   "id": "388a60e9",
   "metadata": {},
   "source": [
    "# Problem: 9\n",
    "\n",
    "Create a random $3×5$ array using the `np.random.rand(3 ,5)` function and compute: the sum of all the entries, the sum of the rows, and the sum of the columns."
   ]
  },
  {
   "cell_type": "code",
   "execution_count": 225,
   "id": "6dfa35a5",
   "metadata": {},
   "outputs": [
    {
     "name": "stdout",
     "output_type": "stream",
     "text": [
      "the sum of all the entries of the random array is: 5.72\n"
     ]
    }
   ],
   "source": [
    "# Write your code here\n",
    "\n",
    "print(f'the sum of all the entries of the random array is:', np.random.rand(3,5).sum(axis=0).sum().round(2))"
   ]
  },
  {
   "cell_type": "markdown",
   "id": "b0eabd51",
   "metadata": {},
   "source": [
    "## Problem: 10\n",
    "\n",
    "Create a random $5×5$ array using the function `np.random.rand(5, 5)`. Then sort the rows according to the second column."
   ]
  },
  {
   "cell_type": "code",
   "execution_count": 38,
   "id": "7940d0d3-6140-48ca-a705-b89cc0b5b8eb",
   "metadata": {},
   "outputs": [
    {
     "data": {
      "text/plain": [
       "array([[0.94145802, 0.91010354, 0.48072438, 0.20161859, 0.83860049],\n",
       "       [0.81348783, 0.7122117 , 0.57170511, 0.59246251, 0.57716841],\n",
       "       [0.96954654, 0.07968371, 0.78262757, 0.80228443, 0.57746375],\n",
       "       [0.20314646, 0.4937933 , 0.67830074, 0.93134227, 0.76862038],\n",
       "       [0.55978462, 0.06781423, 0.76268544, 0.69356641, 0.91140679]])"
      ]
     },
     "execution_count": 38,
     "metadata": {},
     "output_type": "execute_result"
    }
   ],
   "source": [
    "# running in a separate cell for comparison \n",
    "arr = np.random.rand(5,5)\n",
    "arr"
   ]
  },
  {
   "cell_type": "code",
   "execution_count": 39,
   "id": "e689c2af",
   "metadata": {},
   "outputs": [
    {
     "data": {
      "text/plain": [
       "array([[0.55978462, 0.06781423, 0.76268544, 0.69356641, 0.91140679],\n",
       "       [0.96954654, 0.07968371, 0.78262757, 0.80228443, 0.57746375],\n",
       "       [0.20314646, 0.4937933 , 0.67830074, 0.93134227, 0.76862038],\n",
       "       [0.81348783, 0.7122117 , 0.57170511, 0.59246251, 0.57716841],\n",
       "       [0.94145802, 0.91010354, 0.48072438, 0.20161859, 0.83860049]])"
      ]
     },
     "execution_count": 39,
     "metadata": {},
     "output_type": "execute_result"
    }
   ],
   "source": [
    "# sort the array by a particular column, use argsort() to get the indices that would sort the column\n",
    "# then use those indices to reorder the array\n",
    "\n",
    "indices_col_sorted = np.argsort(arr[:,1]) # sort indices of all the rows, by 2nd column\n",
    "\n",
    "# np.argsort(arr, axis=0) # sort the array vertically, each col will be sorted independently\n",
    "arr[indices_col_sorted] # sort the array by the indices of the 2nd col"
   ]
  },
  {
   "cell_type": "code",
   "execution_count": null,
   "id": "b1c5f458-07ea-48a8-a778-b57ee413293c",
   "metadata": {},
   "outputs": [],
   "source": []
  }
 ],
 "metadata": {
  "kernelspec": {
   "display_name": "Python 3 (ipykernel)",
   "language": "python",
   "name": "python3"
  },
  "language_info": {
   "codemirror_mode": {
    "name": "ipython",
    "version": 3
   },
   "file_extension": ".py",
   "mimetype": "text/x-python",
   "name": "python",
   "nbconvert_exporter": "python",
   "pygments_lexer": "ipython3",
   "version": "3.12.4"
  }
 },
 "nbformat": 4,
 "nbformat_minor": 5
}
